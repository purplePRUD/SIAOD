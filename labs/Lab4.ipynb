{
 "cells": [
  {
   "cell_type": "markdown",
   "id": "fifteen-sailing",
   "metadata": {},
   "source": [
    "# Лабораторная работа №4\n",
    "## Выполнил студент группы Куликов Павел Максимович БВТ2005"
   ]
  },
  {
   "cell_type": "markdown",
   "id": "arctic-stocks",
   "metadata": {},
   "source": [
    "Реализовать следующие структуры данных:\n",
    "  \n",
    "● <b> Стек (stack): </b>  \n",
    "Операции для стека: \n",
    "<i> инициализация, проверка на пустоту, добавление нового элемента в начало, извлечение элемента из начала;  </i>  \n",
    "  \n",
    "● <b> Дек (двусторонняя очередь, deque):  </b>  \n",
    "Операции для дека: \n",
    "<i> инициализация, проверка на пустоту, добавление нового элемента в начало, добавление нового элемента в конец, извлечение элемента из начала, извлечение элемента из конца. </i>  \n",
    "  \n",
    "<i> Разработать программу обработки данных, содержащихся в заранее подготовленном txt-файле, в соответствии с заданиями, применив указанную в задании структуру данных. Результат работы программы вывести на экран и сохранить в отдельном txt-файле. </i>"
   ]
  },
  {
   "cell_type": "code",
   "execution_count": 2,
   "id": "adc4820d",
   "metadata": {},
   "outputs": [],
   "source": [
    "class Stack:\n",
    "    def __init__(self, data=[]):\n",
    "        self.stack = data\n",
    "        \n",
    "    def is_empty(self):\n",
    "        return False if len(self.stack) else True\n",
    "    \n",
    "    def append(self, item):\n",
    "        self.stack.append(item)\n",
    "    \n",
    "    def pop(self):\n",
    "        return self.stack.pop()\n",
    "    \n",
    "    def __str__(self):\n",
    "        string_view = \"[\" + \", \".join(map(str, self.stack)) + \"]\"\n",
    "        return string_view\n",
    "\n",
    "\n",
    "class Deque:\n",
    "    def __init__(self, data=[]):\n",
    "        self.deque = data\n",
    "\n",
    "    def is_empty(self):\n",
    "        return False if len(self.deque) else True\n",
    "\n",
    "    def append_left(self, item):\n",
    "        self.deque.insert(0, item)\n",
    "\n",
    "    def append_right(self, item):\n",
    "        self.deque.append(item)\n",
    "\n",
    "    def pop_left(self):\n",
    "        return self.deque.pop(0)\n",
    "\n",
    "    def pop_right(self):\n",
    "        return self.deque.pop()\n",
    "    \n",
    "    def show_left(self):\n",
    "        if len(self.deque) != 0:\n",
    "            return self.deque[0]\n",
    "        else:\n",
    "            return None\n",
    "    \n",
    "    def show_right(self):\n",
    "        if len(self.deque) != 0:\n",
    "            return self.deque[len(self.deque) - 1]\n",
    "        else:\n",
    "            return None\n",
    "\n",
    "    def __str__(self):\n",
    "        string_view = \"[\" + \", \".join(map(str, self.deque)) + \"]\"\n",
    "        return string_view"
   ]
  },
  {
   "cell_type": "markdown",
   "id": "5d7edb08",
   "metadata": {
    "scrolled": true
   },
   "source": [
    "### Задание №1\n",
    "Отсортировать строки файла, содержащие названия книг, в алфавитном порядке с использованием двух деков."
   ]
  },
  {
   "cell_type": "code",
   "execution_count": 23,
   "id": "9752b2a9",
   "metadata": {},
   "outputs": [
    {
     "name": "stdout",
     "output_type": "stream",
     "text": [
      "Преступление и наказание\n",
      "Война и мир\n",
      "Золотой теленок\n",
      "Граф Монте-Кристо\n",
      "Мастер и Маргарита\n",
      "Мёртвые души\n",
      "Собачье сердце\n"
     ]
    }
   ],
   "source": [
    "temp = []\n",
    "with open(\"Files for Lab4/input_task1.txt\", \"r\") as file:\n",
    "    for line in file:\n",
    "        temp.append(line.replace('\\n', ''))\n",
    "print(\"\\n\".join(map(str,temp)))"
   ]
  },
  {
   "cell_type": "code",
   "execution_count": 3,
   "id": "17702ade",
   "metadata": {},
   "outputs": [
    {
     "name": "stdout",
     "output_type": "stream",
     "text": [
      "Война и мир\n",
      "Граф Монте-Кристо\n",
      "Золотой теленок\n",
      "Мастер и Маргарита\n",
      "Мёртвые души\n",
      "Преступление и наказание\n",
      "Собачье сердце\n"
     ]
    }
   ],
   "source": [
    "def deq_sort(books):\n",
    "    deque_one = Deque(books)\n",
    "    deque_two = Deque()\n",
    "\n",
    "    while not deque_one.is_empty():\n",
    "        template = deque_one.pop_left()\n",
    "        if not deque_two.is_empty():\n",
    "            if template >= deque_two.show_right():\n",
    "                deque_two.append_right(template)\n",
    "            elif template <= deque_two.show_left():\n",
    "                deque_two.append_left(template)\n",
    "            else:\n",
    "                while template > deque_two.show_left() and not deque_two.is_empty():\n",
    "                    deque_one.append_left(deque_two.pop_left())\n",
    "                deque_two.append_left(template)\n",
    "        else:\n",
    "            deque_two.append_right(template)\n",
    "    return deque_two.deque\n",
    "\n",
    "\n",
    "sorted = deq_sort(temp)\n",
    "with open(\"Files for Lab4/output_task1.txt\", \"w\") as file:\n",
    "        file.writelines(\"\\n\".join(map(str, sorted)))\n",
    "with open(\"Files for Lab4/output_task1.txt\", \"r\") as file:\n",
    "    print(\"\".join(map(str,file.readlines())))"
   ]
  },
  {
   "cell_type": "markdown",
   "id": "49fbd2a0",
   "metadata": {},
   "source": [
    "### Задание №2\n",
    "Дек содержит последовательность символов для шифровки сообщений. Дан текстовый файл, содержащий зашифрованное сообщение. Пользуясь деком, расшифровать текст. \n",
    "Известно, что при шифровке каждый символ сообщения заменялся следующим за ним в деке по часовой стрелке через один."
   ]
  },
  {
   "cell_type": "code",
   "execution_count": 1,
   "id": "81cab7a8",
   "metadata": {},
   "outputs": [
    {
     "name": "stdout",
     "output_type": "stream",
     "text": [
      "qsaqqcqq\n"
     ]
    }
   ],
   "source": [
    "temp = \"\"\n",
    "with open(\"D:/panay666/LIRA.team/Study - General/СиАОД/panay/SIAOD/labs/Files for Lab4/input_task2.txt\", \"r\") as file:\n",
    "    for line in file:\n",
    "        temp += line.replace('\\n', '')\n",
    "print(temp)"
   ]
  },
  {
   "cell_type": "code",
   "execution_count": 4,
   "id": "02cddb36",
   "metadata": {},
   "outputs": [
    {
     "name": "stdout",
     "output_type": "stream",
     "text": [
      "sucssess\n"
     ]
    }
   ],
   "source": [
    "def decoding(text):\n",
    "    deque_cipher = Deque([\"a\", \"b\", \"c\", \"d\", \"e\", \"f\", \"g\", \"h\", \"i\", \"j\",\n",
    "                          \"k\", \"l\", \"m\", \"n\", \"o\", \"p\", \"q\", \"r\", \"s\", \"t\",\n",
    "                          \"u\", \"v\", \"w\", \"x\", \"y\", \"z\"])\n",
    "    decoded = \"\"\n",
    "    i = 0\n",
    "    while len(decoded) < len(text):\n",
    "        if text[i] == deque_cipher.show_left():\n",
    "            deque_cipher.append_right(deque_cipher.pop_left())\n",
    "            deque_cipher.append_right(deque_cipher.pop_left())\n",
    "            decoded += deque_cipher.show_left()\n",
    "            i += 1\n",
    "            deque_cipher.append_left(deque_cipher.pop_right())\n",
    "            deque_cipher.append_left(deque_cipher.pop_right())\n",
    "        deque_cipher.append_right(deque_cipher.pop_left())\n",
    "    return decoded\n",
    "\n",
    "\n",
    "result = decoding(temp)\n",
    "with open(\"D:/panay666/LIRA.team/Study - General/СиАОД/panay/SIAOD/labs/Files for Lab4/output_task2.txt\", \"w\") as file:\n",
    "        file.writelines(result)\n",
    "with open(\"D:/panay666/LIRA.team/Study - General/СиАОД/panay/SIAOD/labs/Files for Lab4/output_task2.txt\", \"r\") as file:\n",
    "    print(\"\".join(map(str,file.readlines())))"
   ]
  },
  {
   "cell_type": "markdown",
   "id": "c0894f47",
   "metadata": {},
   "source": [
    "### Задание №3\n",
    "Даны три стержня и n дисков различного размера. Диски можно надевать на стержни, образуя из них башни. Перенести n дисков со стержня А на стержень С, сохранив их первоначальный порядок. При переносе дисков необходимо соблюдать следующие правила:\n",
    "- на каждом шаге со стержня на стержень переносить только один диск;\n",
    "- диск нельзя помещать на диск меньшего размера;\n",
    "- для промежуточного хранения можно использовать стержень В.\n",
    "Реализовать алгоритм, используя три стека вместо стержней А, В, С. Информация о дисках хранится в исходном файле."
   ]
  },
  {
   "cell_type": "code",
   "execution_count": 9,
   "id": "9e91a9d4",
   "metadata": {},
   "outputs": [
    {
     "name": "stdout",
     "output_type": "stream",
     "text": [
      "Дано: [1, 2, 3, 4]\n",
      "Перенос с стержня 1 на стержень 2\n",
      "1: [1, 2, 3] \t2: [4] \t3: []\n",
      "Перенос с стержня 1 на стержень 3\n",
      "1: [1, 2] \t2: [4] \t3: [3]\n",
      "Перенос с стержня 2 на стержень 3\n",
      "1: [1, 2] \t2: [] \t3: [3, 4]\n",
      "Перенос с стержня 1 на стержень 2\n",
      "1: [1] \t2: [2] \t3: [3, 4]\n",
      "Перенос с стержня 3 на стержень 1\n",
      "1: [1, 4] \t2: [2] \t3: [3]\n",
      "Перенос с стержня 3 на стержень 2\n",
      "1: [1, 4] \t2: [2, 3] \t3: []\n",
      "Перенос с стержня 1 на стержень 2\n",
      "1: [1] \t2: [2, 3, 4] \t3: []\n",
      "Перенос с стержня 1 на стержень 3\n",
      "1: [] \t2: [2, 3, 4] \t3: [1]\n",
      "Перенос с стержня 2 на стержень 3\n",
      "1: [] \t2: [2, 3] \t3: [1, 4]\n",
      "Перенос с стержня 2 на стержень 1\n",
      "1: [3] \t2: [2] \t3: [1, 4]\n",
      "Перенос с стержня 3 на стержень 1\n",
      "1: [3, 4] \t2: [2] \t3: [1]\n",
      "Перенос с стержня 2 на стержень 3\n",
      "1: [3, 4] \t2: [] \t3: [1, 2]\n",
      "Перенос с стержня 1 на стержень 2\n",
      "1: [3] \t2: [4] \t3: [1, 2]\n",
      "Перенос с стержня 1 на стержень 3\n",
      "1: [] \t2: [4] \t3: [1, 2, 3]\n",
      "Перенос с стержня 2 на стержень 3\n",
      "1: [] \t2: [] \t3: [1, 2, 3, 4]\n",
      "Результат: [1, 2, 3, 4]\n"
     ]
    }
   ],
   "source": [
    "def hanoi_tower(disks):\n",
    "    rods[1] = Stack(disks)\n",
    "    print(\"Дано:\", rods[1])\n",
    "    hanoi_move(len(rods[1].stack), 1, 3)\n",
    "\n",
    "\n",
    "def hanoi_move(n, x, y):\n",
    "    if n == 1:\n",
    "        print(\"Перенос с стержня\", x, \"на стержень\", y)\n",
    "        rods[y].append(rods[x].pop())\n",
    "        print(\"1:\", rods[1], \"\\t2:\", rods[2], \"\\t3:\", rods[3])\n",
    "    else:\n",
    "        hanoi_move(n - 1, x, 6 - x - y)\n",
    "        print(\"Перенос с стержня\", x, \"на стержень\", y)\n",
    "        rods[y].append(rods[x].pop())\n",
    "        print(\"1:\", rods[1], \"\\t2:\", rods[2], \"\\t3:\", rods[3])\n",
    "        hanoi_move(n - 1, 6 - x - y, y)\n",
    "\n",
    "\n",
    "rods = {1: Stack([]), 2: Stack([]), 3: Stack([])}\n",
    "with open(\"D:/panay666/LIRA.team/Study - General/СиАОД/panay/SIAOD/labs/Files for Lab4/input_task3.txt\", \"r\") as file:\n",
    "    hanoi_tower(file.readline().split(\" \"))\n",
    "with open(\"D:/panay666/LIRA.team/Study - General/СиАОД/panay/SIAOD/labs/Files for Lab4/output_task3.txt\", \"w\") as file:\n",
    "    file.write(str(rods[3]))\n",
    "with open(\"D:/panay666/LIRA.team/Study - General/СиАОД/panay/SIAOD/labs/Files for Lab4/output_task3.txt\", \"r\") as file:\n",
    "    print(\"Результат:\", \"\".join(map(str, file.readlines())))"
   ]
  },
  {
   "cell_type": "markdown",
   "id": "e5b0be17",
   "metadata": {},
   "source": [
    "### Задание №4\n",
    "Дан текстовый файл с программой на алгоритмическом языке. За один просмотр файла проверить баланс круглых скобок в тексте, используя стек."
   ]
  },
  {
   "cell_type": "code",
   "execution_count": 24,
   "id": "0f7d7086",
   "metadata": {},
   "outputs": [
    {
     "name": "stdout",
     "output_type": "stream",
     "text": [
      "Код:\n",
      "def quickSort(arr):\n",
      "\n",
      "    if len(arr) <= 1:\n",
      "\n",
      "        return arr\n",
      "\n",
      "\n",
      "\n",
      "    startElement = arr[0]\n",
      "\n",
      "    lowArr = list(filter(lambda x: x < startElement, arr))\n",
      "\n",
      "    midArr = [i for i in arr if i == startElement]\n",
      "\n",
      "    highArr = list(filter(lambda x: x > startElement, arr))\n",
      "\n",
      "\n",
      "\n",
      "    return quickSort(lowArr) + midArr + quickSort(highArr)\n",
      "\n",
      "Результат: True\n"
     ]
    }
   ],
   "source": [
    "def chek_brackets_balanse():\n",
    "    with open(\"D:/panay666/LIRA.team/Study - General/СиАОД/panay/SIAOD/labs/Files for Lab4/input_task4.txt\", \"r\") as file:\n",
    "        temp = Stack()\n",
    "        for line in file:\n",
    "            print(line)\n",
    "            for el in line:\n",
    "                if el == '(':\n",
    "                    temp.append(el)\n",
    "                elif el == ')':\n",
    "                    if temp.is_empty():\n",
    "                        return False\n",
    "                    else:\n",
    "                        temp.pop()\n",
    "    print()\n",
    "    return temp.is_empty()\n",
    "\n",
    "print(\"Код:\")\n",
    "print(\"Результат:\", chek_brackets_balanse())"
   ]
  },
  {
   "cell_type": "markdown",
   "id": "eab7d3e5",
   "metadata": {},
   "source": [
    "### Задание №5\n",
    "Дан текстовый файл с программой на алгоритмическом языке. За один просмотр файла проверить баланс квадратных скобок в тексте, используя дек."
   ]
  },
  {
   "cell_type": "code",
   "execution_count": 25,
   "id": "36b8f400",
   "metadata": {},
   "outputs": [
    {
     "name": "stdout",
     "output_type": "stream",
     "text": [
      "Код:\n",
      "def diagonal_sort(matrix):\n",
      "\n",
      "    user_m = len(matrix)\n",
      "\n",
      "    user_n = len(matrix[0])\n",
      "\n",
      "    arr = []\n",
      "\n",
      "    sorted_matrix = copy.copy(matrix)\n",
      "\n",
      "\n",
      "\n",
      "    for k in range(user_m):\n",
      "\n",
      "        arr.clear()\n",
      "\n",
      "        for i in range(k, user_m):\n",
      "\n",
      "            for j in range(i - k, user_n):\n",
      "\n",
      "                arr.append(matrix[i][j])\n",
      "\n",
      "                break\n",
      "\n",
      "        arr.sort()\n",
      "\n",
      "        for i in range(k, user_m):\n",
      "\n",
      "            for j in range(i - k, user_n):\n",
      "\n",
      "                sorted_matrix[i][j] = arr[j]\n",
      "\n",
      "                break\n",
      "\n",
      "    for k in range(1, user_n):\n",
      "\n",
      "        arr.clear()\n",
      "\n",
      "        for i in range(k, user_n):\n",
      "\n",
      "            for j in range(i - k, user_m):\n",
      "\n",
      "                arr.append(matrix[j][i])\n",
      "\n",
      "                break\n",
      "\n",
      "        arr.sort()\n",
      "\n",
      "        for i in range(k, user_n):\n",
      "\n",
      "            for j in range(i - k, user_m):\n",
      "\n",
      "                sorted_matrix[j][i] = arr[j]\n",
      "\n",
      "                break\n",
      "\n",
      "    return sorted_matrix\n",
      "\n",
      "Результат: True\n"
     ]
    }
   ],
   "source": [
    "def chek_brackets_balanse():\n",
    "    with open(\"D:/panay666/LIRA.team/Study - General/СиАОД/panay/SIAOD/labs/Files for Lab4/input_task5.txt\", \"r\") as file:\n",
    "        temp = Deque()\n",
    "        for line in file:\n",
    "            print(line)\n",
    "            for el in line:\n",
    "                if el == '[':\n",
    "                    temp.append_right(el)\n",
    "                elif el == ']':\n",
    "                    if temp.is_empty():\n",
    "                        return False\n",
    "                    else:\n",
    "                        temp.pop_right()\n",
    "    print()\n",
    "    return temp.is_empty()\n",
    "\n",
    "print(\"Код:\")\n",
    "print(\"Результат:\", chek_brackets_balanse())"
   ]
  },
  {
   "cell_type": "markdown",
   "id": "59d13dc7",
   "metadata": {},
   "source": [
    "### Задание №6\n",
    "Дан файл из символов. Используя стек, за один просмотр файла напечатать сначала все цифры, затем все буквы, и, наконец, все остальные символы, сохраняя исходный порядок в каждой группе символов."
   ]
  },
  {
   "cell_type": "code",
   "execution_count": 27,
   "id": "297e36c2",
   "metadata": {},
   "outputs": [
    {
     "name": "stdout",
     "output_type": "stream",
     "text": [
      "Ввод:\n",
      "123dsfvbxcv kio}{}:}/./,12314safdgfv?>?<;\\;']']',.,,123sad)(&&(\n",
      "Вывод:\n",
      "12312314123dsfvbxcvkiosafdgfvsad }{}:}/./,?>?<;\\;']']',.,,)(&&(\n"
     ]
    }
   ],
   "source": [
    "def symbols_sort():\n",
    "    out = open(\"D:/panay666/LIRA.team/Study - General/СиАОД/panay/SIAOD/labs/Files for Lab4/output_task6.txt\", \"w\")\n",
    "    with open(\"D:/panay666/LIRA.team/Study - General/СиАОД/panay/SIAOD/labs/Files for Lab4/input_task6.txt\", \"r\") as file:\n",
    "        digits = Stack([])\n",
    "        letters = Stack([])\n",
    "        symbols = Stack([])\n",
    "        print(\"Ввод:\")\n",
    "        for line in file:\n",
    "            print(line)\n",
    "            for el in line:\n",
    "                if el.isdigit():\n",
    "                    digits.append(el)\n",
    "                elif el.isalpha():\n",
    "                    letters.append(el)\n",
    "                else:\n",
    "                    symbols.append(el)\n",
    "    temp = \"\"\n",
    "    while not digits.is_empty():\n",
    "        temp += digits.pop()\n",
    "    out.write(temp[::-1])\n",
    "    temp = \"\"\n",
    "    while not letters.is_empty():\n",
    "        temp += letters.pop()\n",
    "    out.write(temp[::-1])\n",
    "    temp = \"\"\n",
    "    while symbols.is_empty() is False:\n",
    "        temp += symbols.pop()\n",
    "    out.write(temp[::-1])\n",
    "    out.close()\n",
    "\n",
    "\n",
    "symbols_sort()\n",
    "print(\"Вывод:\")\n",
    "with open(\"D:/panay666/LIRA.team/Study - General/СиАОД/panay/SIAOD/labs/Files for Lab4/output_task6.txt\", \"r\") as file:\n",
    "    print(\"\".join(map(str, file.readlines())))"
   ]
  },
  {
   "cell_type": "markdown",
   "id": "973f68bd",
   "metadata": {},
   "source": [
    "### Задание №7\n",
    "Дан файл из целых чисел. Используя дек, за один просмотр файла напечатать сначала все отрицательные числа, затем все положительные числа, сохраняя исходный порядок в каждой группе."
   ]
  },
  {
   "cell_type": "code",
   "execution_count": 3,
   "id": "c56fad66",
   "metadata": {},
   "outputs": [
    {
     "name": "stdout",
     "output_type": "stream",
     "text": [
      "Ввод:\n",
      "-3 4 63 -56 0 -5 23 75 -1 89 47 -47\n",
      "Вывод:\n",
      "-3 -56 -5 -1 -47 4 63 0 23 75 89 47 \n"
     ]
    }
   ],
   "source": [
    "def digit_sort():\n",
    "    out = open(\"D:/panay666/LIRA.team/Study - General/СиАОД/panay/SIAOD/labs/Files for Lab4/output_task7.txt\", \"w\")\n",
    "    with open(\"D:/panay666/LIRA.team/Study - General/СиАОД/panay/SIAOD/labs/Files for Lab4/input_task7.txt\", \"r\") as file:\n",
    "        buffer = Deque([])\n",
    "        for line in file:\n",
    "            print(line)\n",
    "            temp = line.split(\" \")\n",
    "            for digit in temp:\n",
    "                if int(digit) < 0:\n",
    "                    buffer.append_left(int(digit))\n",
    "                else:\n",
    "                    buffer.append_right(int(digit))\n",
    "    while buffer.show_right() >= 0:\n",
    "        buffer.append_left(buffer.pop_right())\n",
    "    while buffer.show_right() < 0:\n",
    "        out.write(str(buffer.pop_right()) + \" \")\n",
    "    while not buffer.is_empty():\n",
    "        out.write(str(buffer.pop_left()) + \" \")\n",
    "    out.close()\n",
    "\n",
    "\n",
    "print(\"Ввод:\")    \n",
    "digit_sort()\n",
    "print(\"Вывод:\")\n",
    "with open(\"D:/panay666/LIRA.team/Study - General/СиАОД/panay/SIAOD/labs/Files for Lab4/output_task7.txt\", \"r\") as file:\n",
    "    print(\"\".join(map(str, file.readlines())))"
   ]
  },
  {
   "cell_type": "markdown",
   "id": "b9228191",
   "metadata": {},
   "source": [
    "### Задание №8\n",
    "Дан текстовый файл. Используя стек, сформировать новый текстовый файл, содержащий строки исходного файла, записанные в обратном порядке: первая строка становится последней, вторая – предпоследней и т.д."
   ]
  },
  {
   "cell_type": "code",
   "execution_count": 5,
   "id": "981fbdfe",
   "metadata": {},
   "outputs": [
    {
     "name": "stdout",
     "output_type": "stream",
     "text": [
      "Ввод:\n",
      "Россия - священная наша держава,\n",
      "Россия - любимая наша страна.\n",
      "Могучая воля, великая слава -\n",
      "Твое достоянье на все времена!\n",
      "\n",
      "Славься, Отечество наше свободное,\n",
      "Братских народов союз вековой,\n",
      "Предками данная мудрость народная!\n",
      "Славься, страна! Мы гордимся тобой!\n",
      "\n",
      "Вывод:\n",
      "Славься, страна! Мы гордимся тобой!\n",
      "Предками данная мудрость народная!\n",
      "Братских народов союз вековой,\n",
      "Славься, Отечество наше свободное,\n",
      "\n",
      "Твое достоянье на все времена!\n",
      "Могучая воля, великая слава -\n",
      "Россия - любимая наша страна.\n",
      "Россия - священная наша держава,\n",
      "\n"
     ]
    }
   ],
   "source": [
    "def reverse():\n",
    "    with open(\"D:/panay666/LIRA.team/Study - General/СиАОД/panay/SIAOD/labs/Files for Lab4/input_task8.txt\", \"r\") as file:\n",
    "        buffer = Stack([])\n",
    "        for line in file:\n",
    "            print(line.replace(\"\\n\", \"\"))\n",
    "            buffer.append(line.replace(\"\\n\", \"\"))\n",
    "\n",
    "    with open(\"D:/panay666/LIRA.team/Study - General/СиАОД/panay/SIAOD/labs/Files for Lab4/output_task8.txt\", \"w\") as file:\n",
    "        while not buffer.is_empty():\n",
    "            file.write(buffer.pop() + \"\\n\")\n",
    "\n",
    "\n",
    "print(\"Ввод:\")\n",
    "reverse()\n",
    "print()\n",
    "print(\"Вывод:\")\n",
    "with open(\"D:/panay666/LIRA.team/Study - General/СиАОД/panay/SIAOD/labs/Files for Lab4/output_task8.txt\", \"r\") as file:\n",
    "    print(\"\".join(map(str, file.readlines())))"
   ]
  },
  {
   "cell_type": "markdown",
   "id": "rental-jerusalem",
   "metadata": {},
   "source": [
    "### Вывод\n"
   ]
  },
  {
   "cell_type": "markdown",
   "id": "0c2b8899",
   "metadata": {},
   "source": []
  }
 ],
 "metadata": {
  "kernelspec": {
   "display_name": "Python 3 (ipykernel)",
   "language": "python",
   "name": "python3"
  },
  "language_info": {
   "codemirror_mode": {
    "name": "ipython",
    "version": 3
   },
   "file_extension": ".py",
   "mimetype": "text/x-python",
   "name": "python",
   "nbconvert_exporter": "python",
   "pygments_lexer": "ipython3",
   "version": "3.10.2"
  }
 },
 "nbformat": 4,
 "nbformat_minor": 5
}
