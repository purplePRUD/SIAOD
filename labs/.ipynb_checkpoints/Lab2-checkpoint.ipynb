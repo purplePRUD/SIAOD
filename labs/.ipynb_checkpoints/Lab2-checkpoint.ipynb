{
 "cells": [
  {
   "cell_type": "markdown",
   "id": "fifteen-sailing",
   "metadata": {},
   "source": [
    "# Лабораторная работа №2\n",
    "## Выполнил студент группы ГРУППА ФИО"
   ]
  },
  {
   "cell_type": "markdown",
   "id": "particular-syndicate",
   "metadata": {},
   "source": [
    "### Оглавление\n",
    "1. [Задание 1](#Задание-№1)\n",
    "2. [Задание 2](#Задание-№2)\n",
    "3. [Задание 3](#Задание-№3)"
   ]
  },
  {
   "cell_type": "markdown",
   "id": "arctic-stocks",
   "metadata": {},
   "source": [
    "### Задание №1\n",
    "Реализовать методы поиска в соответствии с заданием. Организовать генерацию начального набора случайных данных. Для всех вариантов добавить реализацию добавления, поиска и удаления элементов. Оценить время работы каждого алгоритма поиска и сравнить его со временем работы стандартной функции поиска, используемой в выбранном языке программирования."
   ]
  },
  {
   "cell_type": "code",
   "execution_count": 17,
   "id": "3d623ff5",
   "metadata": {},
   "outputs": [
    {
     "name": "stdout",
     "output_type": "stream",
     "text": [
      "Длина массива: 100000000\n",
      "Минимальное значение: 0\n",
      "Максимальное значение: 10000\n",
      "Искомое значение: 1\n"
     ]
    }
   ],
   "source": [
    "import random\n",
    "import datetime\n",
    "\n",
    "print(\"Длина массива:\", end=\" \")\n",
    "lenght = int(input())\n",
    "print(\"Минимальное значение:\", end=\" \")\n",
    "min_value = int(input())\n",
    "print(\"Максимальное значение:\", end=\" \")\n",
    "max_value = int(input())\n",
    "\n",
    "array = [random.randint(min_value, max_value) for i in range(lenght)]\n",
    "array.sort()\n",
    "\n",
    "print(\"Искомое значение:\", end=\" \")\n",
    "find_val = int(input())"
   ]
  },
  {
   "cell_type": "code",
   "execution_count": 49,
   "id": "caring-truck",
   "metadata": {
    "scrolled": true
   },
   "outputs": [
    {
     "name": "stdout",
     "output_type": "stream",
     "text": [
      "Индекс значения: 12206\n",
      "Потрачено времени: 2 ms\n"
     ]
    }
   ],
   "source": [
    "#Бинарный поиск\n",
    "def binary_search(array, num):\n",
    "    lower = 0\n",
    "    upper = len(array) - 1\n",
    "\n",
    "    while lower < upper:\n",
    "        center = (lower + upper) // 2\n",
    "        if num == array[center]:\n",
    "            return \"Индекс значения: \" + str(center)\n",
    "        elif num < array[center]:\n",
    "            upper = center - 1\n",
    "        elif num > array[center]:\n",
    "            lower = center + 1\n",
    "    return \"Значение не найдено!\"\n",
    "\n",
    "\n",
    "start_time = datetime.datetime.now()\n",
    "print(binary_search(array, find_val))\n",
    "binary_search_time = int(str(((datetime.datetime.now() - start_time).total_seconds()) * 1000)[2:])\n",
    "print(\"Потрачено времени:\", binary_search_time, \"ms\")"
   ]
  },
  {
   "cell_type": "code",
   "execution_count": null,
   "id": "75af3ea8",
   "metadata": {},
   "outputs": [],
   "source": [
    "#Бинарное дерево"
   ]
  },
  {
   "cell_type": "code",
   "execution_count": null,
   "id": "abe4b0b4",
   "metadata": {},
   "outputs": [],
   "source": [
    "#Метод Фибоначчи"
   ]
  },
  {
   "cell_type": "code",
   "execution_count": null,
   "id": "34ec2894",
   "metadata": {},
   "outputs": [],
   "source": [
    "#Интерполяционный"
   ]
  },
  {
   "cell_type": "markdown",
   "id": "maritime-conversation",
   "metadata": {},
   "source": [
    "### Задание №2\n",
    "Написать соответствующие решения для заданных методов."
   ]
  },
  {
   "cell_type": "code",
   "execution_count": null,
   "id": "97f9de37",
   "metadata": {},
   "outputs": [],
   "source": [
    "#Простое рехэширование"
   ]
  },
  {
   "cell_type": "code",
   "execution_count": null,
   "id": "b4b80e3a",
   "metadata": {},
   "outputs": [],
   "source": [
    "#Рехэширование с помощью псевдослучайных чисел\n"
   ]
  },
  {
   "cell_type": "code",
   "execution_count": null,
   "id": "1addc092",
   "metadata": {},
   "outputs": [],
   "source": [
    "#Метод цепочек"
   ]
  },
  {
   "cell_type": "markdown",
   "id": "catholic-roots",
   "metadata": {},
   "source": [
    "### Задание №3\n",
    "Расставить на стандартной 64-клеточной шахматной доске 8 ферзей так, чтобы ни один из них не находился под боем другого». Подразумевается, что ферзь бьёт все клетки, расположенные по вертикалям, горизонталям и обеим диагоналям\n",
    "Написать программу,  которая находит хотя бы один способ решения задач.\n"
   ]
  },
  {
   "cell_type": "code",
   "execution_count": null,
   "id": "09de30c9",
   "metadata": {},
   "outputs": [],
   "source": []
  }
 ],
 "metadata": {
  "kernelspec": {
   "display_name": "Python 3 (ipykernel)",
   "language": "python",
   "name": "python3"
  },
  "language_info": {
   "codemirror_mode": {
    "name": "ipython",
    "version": 3
   },
   "file_extension": ".py",
   "mimetype": "text/x-python",
   "name": "python",
   "nbconvert_exporter": "python",
   "pygments_lexer": "ipython3",
   "version": "3.10.2"
  }
 },
 "nbformat": 4,
 "nbformat_minor": 5
}
