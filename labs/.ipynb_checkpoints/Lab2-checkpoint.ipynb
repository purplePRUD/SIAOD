{
 "cells": [
  {
   "cell_type": "markdown",
   "id": "fifteen-sailing",
   "metadata": {},
   "source": [
    "# Лабораторная работа №2\n",
    "## Выполнил студент группы ГРУППА ФИО"
   ]
  },
  {
   "cell_type": "markdown",
   "id": "particular-syndicate",
   "metadata": {},
   "source": [
    "### Оглавление\n",
    "1. [Задание 1](#Задание-№1)\n",
    "2. [Задание 2](#Задание-№2)\n",
    "3. [Задание 3](#Задание-№3)"
   ]
  },
  {
   "cell_type": "markdown",
   "id": "arctic-stocks",
   "metadata": {},
   "source": [
    "### Задание №1\n",
    "Реализовать методы поиска в соответствии с заданием. Организовать генерацию начального набора случайных данных. Для всех вариантов добавить реализацию добавления, поиска и удаления элементов. Оценить время работы каждого алгоритма поиска и сравнить его со временем работы стандартной функции поиска, используемой в выбранном языке программирования."
   ]
  },
  {
   "cell_type": "code",
   "execution_count": 21,
   "id": "3d623ff5",
   "metadata": {},
   "outputs": [
    {
     "name": "stdout",
     "output_type": "stream",
     "text": [
      "Длина массива: 20\n",
      "Минимальное значение: 0\n",
      "Максимальное значение: 99\n",
      "[68, 51, 27, 68, 45, 68, 50, 39, 22, 32, 11, 76, 1, 5, 37, 97, 56, 24, 19, 18]\n"
     ]
    }
   ],
   "source": [
    "import random\n",
    "import time\n",
    "import copy\n",
    "\n",
    "print(\"Длина массива:\", end=\" \")\n",
    "lenght = int(input())\n",
    "print(\"Минимальное значение:\", end=\" \")\n",
    "min_value = int(input())\n",
    "print(\"Максимальное значение:\", end=\" \")\n",
    "max_value = int(input())\n",
    "\n",
    "array = [random.randint(min_value, max_value) for i in range(lenght)]\n",
    "print(array)"
   ]
  },
  {
   "cell_type": "code",
   "execution_count": 80,
   "id": "caring-truck",
   "metadata": {
    "scrolled": true
   },
   "outputs": [
    {
     "name": "stdout",
     "output_type": "stream",
     "text": [
      "Исходный массив:\n",
      "[1, 5, 11, 18, 19, 22, 24, 27, 32, 37, 39, 45, 50, 51, 56, 68, 68, 68, 76, 97]\n",
      "Искомое значение: 11\n",
      "Индекс значения: 2\n",
      "Потрачено времени: 0 ns\n"
     ]
    }
   ],
   "source": [
    "#Бинарный поиск\n",
    "binary_arr = copy.copy(array)\n",
    "binary_arr.sort()\n",
    "\n",
    "print(\"Исходный массив:\")\n",
    "print(binary_arr)\n",
    "print(\"Искомое значение:\", end=\" \")\n",
    "find_val = int(input())\n",
    "\n",
    "\n",
    "def binary_search(array, num):\n",
    "    lower = 0\n",
    "    upper = len(array) - 1\n",
    "\n",
    "    while lower < upper:\n",
    "        center = (lower + upper) // 2\n",
    "        if num == array[center]:\n",
    "            return center\n",
    "        elif num < array[center]:\n",
    "            upper = center - 1\n",
    "        elif num > array[center]:\n",
    "            lower = center + 1\n",
    "    return -1\n",
    "\n",
    "\n",
    "start_time = time.time()\n",
    "rez = binary_search(binary_arr, find_val)\n",
    "binary_search_time = round((time.time() - start_time)*1000000000)\n",
    "\n",
    "if rez > -1:\n",
    "    print(\"Индекс значения:\", rez)\n",
    "else:\n",
    "    print(\"Значение не найдено!\")\n",
    "\n",
    "print(\"Потрачено времени:\", binary_search_time, \"ns\")"
   ]
  },
  {
   "cell_type": "code",
   "execution_count": 23,
   "id": "ca6bc531",
   "metadata": {},
   "outputs": [
    {
     "name": "stdout",
     "output_type": "stream",
     "text": [
      "Исходный массив:\n",
      "[1, 5, 11, 18, 19, 22, 24, 27, 32, 37, 39, 45, 50, 51, 56, 68, 68, 68, 76, 97]\n",
      "Удалить значение: 5\n",
      "[1, 11, 18, 19, 22, 24, 27, 32, 37, 39, 45, 50, 51, 56, 68, 68, 68, 76, 97]\n"
     ]
    }
   ],
   "source": [
    "binary_delete_arr = copy.copy(binary_arr)\n",
    "\n",
    "\n",
    "def binary_delete(array, num):\n",
    "    index = binary_search(array, num)\n",
    "    if index > -1:\n",
    "        array.pop(index)\n",
    "    return array\n",
    "\n",
    "\n",
    "print(\"Исходный массив:\")\n",
    "print(binary_delete_arr)\n",
    "print(\"Удалить значение:\", end=\" \")\n",
    "delete_value = int(input())\n",
    "binary_delete_arr = binary_delete(binary_delete_arr, delete_value)\n",
    "print(binary_delete_arr)"
   ]
  },
  {
   "cell_type": "code",
   "execution_count": 24,
   "id": "686bfadf",
   "metadata": {},
   "outputs": [
    {
     "name": "stdout",
     "output_type": "stream",
     "text": [
      "Исходный массив:\n",
      "[1, 11, 18, 19, 22, 24, 27, 32, 37, 39, 45, 50, 51, 56, 68, 68, 68, 76, 97]\n",
      "Вставить значение: 99\n",
      "[1, 11, 18, 19, 22, 24, 27, 32, 37, 39, 45, 50, 51, 56, 68, 68, 68, 76, 97, 99]\n"
     ]
    }
   ],
   "source": [
    "binary_insert_arr = copy.copy(binary_delete_arr)\n",
    "\n",
    "\n",
    "def binary_append(array, num):\n",
    "    lower = 0\n",
    "    upper = len(array) - 1\n",
    "\n",
    "    while lower <= upper:\n",
    "        center = (lower + upper) // 2\n",
    "        if num == array[center]:\n",
    "            array.insert(center, num)\n",
    "            return array\n",
    "        elif center == 0:\n",
    "            if array[center] > num:\n",
    "                array.insert(center, num)\n",
    "                return array\n",
    "            else:\n",
    "                array.insert(center + 1, num)\n",
    "                return array\n",
    "        elif center == len(array) - 1:\n",
    "            if array[center] > num:\n",
    "                array.insert(center, num)\n",
    "                return array\n",
    "            else:\n",
    "                array.append(num)\n",
    "                return array\n",
    "        elif array[center] <= num <= array[center + 1]:\n",
    "            array.insert(center + 1, num)\n",
    "            return array\n",
    "        elif num < array[center]:\n",
    "            upper = center - 1\n",
    "        elif num > array[center]:\n",
    "            lower = center + 1\n",
    "\n",
    "\n",
    "print(\"Исходный массив:\")\n",
    "print(binary_insert_arr)\n",
    "print(\"Вставить значение:\", end=\" \")\n",
    "insert_value = int(input())\n",
    "binary_insert_arr = binary_append(binary_insert_arr, insert_value)\n",
    "print(binary_insert_arr)"
   ]
  },
  {
   "cell_type": "code",
   "execution_count": 62,
   "id": "75af3ea8",
   "metadata": {},
   "outputs": [],
   "source": [
    "#Бинарное дерево\n",
    "#Описание класса\n",
    "class Node:\n",
    "    def __init__(self, num):\n",
    "        self.root = None\n",
    "        self.data = num\n",
    "        self.left_child = None\n",
    "        self.right_child = None\n",
    "# функция добавления элемента в дерево\n",
    "    def binary_tree_insert(self, num):\n",
    "        if self is None:\n",
    "            self = num\n",
    "        else:\n",
    "            if self.data > num:\n",
    "                if self.left_child is None:\n",
    "                    self.left_child = Node(num)\n",
    "                    self.left_child.root = False\n",
    "                else:\n",
    "                    self.left_child.binary_tree_insert(num)\n",
    "            else:\n",
    "                if self.right_child is None:\n",
    "                    self.right_child = Node(num)\n",
    "                    self.right_child.root = False\n",
    "                else:\n",
    "                    self.right_child.binary_tree_insert(num)\n",
    "# функция создания дерева из массива\n",
    "    def binary_tree_create(array):\n",
    "        tree = Node(array[0])\n",
    "        tree.root = True\n",
    "        for i in range(1, len(array)):\n",
    "            tree.binary_tree_insert(array[i])\n",
    "        return tree\n",
    "# функция отображения дерева\n",
    "# код display() взят с сайта \"https://stackoverflow.com/questions/34012886/print-binary-tree-level-by-level-in-python\"\n",
    "    def display(self):\n",
    "        lines, *_ = self._display_aux()\n",
    "        for line in lines:\n",
    "            print(line)\n",
    "\n",
    "    def _display_aux(self):\n",
    "        \"\"\"Returns list of strings, width, height, and horizontal coordinate of the root.\"\"\"\n",
    "        # No child.\n",
    "        if self.right_child is None and self.left_child is None:\n",
    "            line = '%s' % self.data\n",
    "            width = len(line)\n",
    "            height = 1\n",
    "            middle = width // 2\n",
    "            return [line], width, height, middle\n",
    "        # Only left child.\n",
    "        if self.right_child is None:\n",
    "            lines, n, p, x = self.left_child._display_aux()\n",
    "            s = '%s' % self.data\n",
    "            u = len(s)\n",
    "            first_line = (x + 1) * ' ' + (n - x - 1) * '_' + s\n",
    "            second_line = x * ' ' + '/' + (n - x - 1 + u) * ' '\n",
    "            shifted_lines = [line + u * ' ' for line in lines]\n",
    "            return [first_line, second_line] + shifted_lines, n + u, p + 2, n + u // 2\n",
    "        # Only right child.\n",
    "        if self.left_child is None:\n",
    "            lines, n, p, x = self.right_child._display_aux()\n",
    "            s = '%s' % self.data\n",
    "            u = len(s)\n",
    "            first_line = s + x * '_' + (n - x) * ' '\n",
    "            second_line = (u + x) * ' ' + '\\\\' + (n - x - 1) * ' '\n",
    "            shifted_lines = [u * ' ' + line for line in lines]\n",
    "            return [first_line, second_line] + shifted_lines, n + u, p + 2, u // 2\n",
    "        # Two children.\n",
    "        left, n, p, x = self.left_child._display_aux()\n",
    "        right, m, q, y = self.right_child._display_aux()\n",
    "        s = '%s' % self.data\n",
    "        u = len(s)\n",
    "        first_line = (x + 1) * ' ' + (n - x - 1) * '_' + s + y * '_' + (m - y) * ' '\n",
    "        second_line = x * ' ' + '/' + (n - x - 1 + u + y) * ' ' + '\\\\' + (m - y - 1) * ' '\n",
    "        if p < q:\n",
    "            left += [n * ' '] * (q - p)\n",
    "        elif q < p:\n",
    "            right += [m * ' '] * (p - q)\n",
    "        zipped_lines = zip(left, right)\n",
    "        lines = [first_line, second_line] + [a + u * ' ' + b for a, b in zipped_lines]\n",
    "        return lines, n + m + u, max(p, q) + 2, n + u // 2\n",
    "# функция поиска пути к элементу в дереве\n",
    "    def tree_search(self, num):\n",
    "        if self.root:\n",
    "            path = \"Root\"\n",
    "        else:\n",
    "            path = \"\"\n",
    "        if self is None:\n",
    "            return \"ERROR\"\n",
    "        else:\n",
    "            if self.data == num:\n",
    "                return path\n",
    "            else:\n",
    "                if self.data > num:\n",
    "                    if self.left_child is not None:\n",
    "                        path += \" - Left\" + self.left_child.tree_search(num)\n",
    "                    else:\n",
    "                        return \"ERROR\"\n",
    "                else:\n",
    "                    if self.right_child is not None:\n",
    "                        path += \" - Right\" + self.right_child.tree_search(num)\n",
    "                    else:\n",
    "                        return \"ERROR\"\n",
    "            if \"ERROR\" in path:\n",
    "                return \"ERROR\"\n",
    "            else:\n",
    "                return path\n",
    "# функция удаления узла из дерева, и перестройки веток удаленного узла            \n",
    "    def delete(self, num):\n",
    "        if self is None:\n",
    "            return self\n",
    "        if num < self.data:\n",
    "            if self.left_child:\n",
    "                self.left_child = self.left_child.delete(num)\n",
    "            return self\n",
    "        if num > self.data:\n",
    "            if self.right_child:\n",
    "                self.right_child = self.right_child.delete(num)\n",
    "            return self\n",
    "        if self.right_child is None:\n",
    "            return self.left_child\n",
    "        if self.left_child is None:\n",
    "            return self.right_child\n",
    "        min_larger_node = self.right_child\n",
    "        while min_larger_node.left_child:\n",
    "            min_larger_node = min_larger_node.left_child\n",
    "        min_larger_node.root = self.root\n",
    "        self.data = min_larger_node.data\n",
    "        self.right_child = self.right_child.delete(min_larger_node.data)\n",
    "        return self"
   ]
  },
  {
   "cell_type": "code",
   "execution_count": 79,
   "id": "7ba0481a",
   "metadata": {},
   "outputs": [
    {
     "name": "stdout",
     "output_type": "stream",
     "text": [
      "                          __68_       \n",
      "                         /     \\      \n",
      "              __________51_   68_     \n",
      "             /             \\     \\    \n",
      "          __27_______     56    68_   \n",
      "         /           \\             \\  \n",
      "    ____22_         45_           76_ \n",
      "   /       \\       /   \\             \\\n",
      " _11___   24    __39  50            97\n",
      "/      \\       /                      \n",
      "1     19      32_                     \n",
      " \\   /           \\                    \n",
      " 5  18          37                    \n",
      "Искомое значение: 37\n",
      "Путь к значению: Root - Left - Left - Right - Left - Left - Right\n",
      "Потрачено времени: 0 ns\n"
     ]
    }
   ],
   "source": [
    "#Поиск по бинарному дереву\n",
    "tree_arr = copy.copy(array)\n",
    "\n",
    "tree = Node.binary_tree_create(tree_arr)\n",
    "tree.display()\n",
    "print(\"Искомое значение:\", end=\" \")\n",
    "find_val = int(input())\n",
    "\n",
    "start_time = time.time()\n",
    "rez = tree.tree_search(find_val)\n",
    "tree_search_time = round((time.time() - start_time)*1000000000)\n",
    "if rez != \"ERROR\":\n",
    "    print(\"Путь к значению:\", rez)\n",
    "else:\n",
    "    print(\"Значение не найдено!\")\n",
    "\n",
    "print(\"Потрачено времени:\", tree_search_time, \"ns\")\n"
   ]
  },
  {
   "cell_type": "code",
   "execution_count": 72,
   "id": "d5c5124a",
   "metadata": {},
   "outputs": [
    {
     "name": "stdout",
     "output_type": "stream",
     "text": [
      "Удалить значение: 27\n",
      "                        __68_       \n",
      "                       /     \\      \n",
      "              ________51_   68_     \n",
      "             /           \\     \\    \n",
      "          __32_____     56    68_   \n",
      "         /         \\             \\  \n",
      "    ____22_       45_           76_ \n",
      "   /       \\     /   \\             \\\n",
      " _11___   24    39  50            97\n",
      "/      \\       /                    \n",
      "1     19      37                    \n",
      " \\   /                              \n",
      " 5  18                              \n"
     ]
    }
   ],
   "source": [
    "print(\"Удалить значение:\", end=\" \")\n",
    "delete_value = int(input())\n",
    "tree.delete(delete_value)\n",
    "tree.display()\n"
   ]
  },
  {
   "cell_type": "code",
   "execution_count": 73,
   "id": "aec3efac",
   "metadata": {},
   "outputs": [
    {
     "name": "stdout",
     "output_type": "stream",
     "text": [
      "Вставить значение: 38\n",
      "                          __68_       \n",
      "                         /     \\      \n",
      "              __________51_   68_     \n",
      "             /             \\     \\    \n",
      "          __32_______     56    68_   \n",
      "         /           \\             \\  \n",
      "    ____22_         45_           76_ \n",
      "   /       \\       /   \\             \\\n",
      " _11___   24    __39  50            97\n",
      "/      \\       /                      \n",
      "1     19      37_                     \n",
      " \\   /           \\                    \n",
      " 5  18          38                    \n"
     ]
    }
   ],
   "source": [
    "print(\"Вставить значение:\", end=\" \")\n",
    "insert_value = int(input())\n",
    "tree.binary_tree_insert(insert_value)\n",
    "tree.display()"
   ]
  },
  {
   "cell_type": "code",
   "execution_count": 78,
   "id": "abe4b0b4",
   "metadata": {},
   "outputs": [
    {
     "name": "stdout",
     "output_type": "stream",
     "text": [
      "Исходный массив:\n",
      "[1, 5, 11, 18, 19, 22, 24, 27, 32, 37, 39, 45, 50, 51, 56, 68, 68, 68, 76, 97]\n",
      "Искомое значение: 56\n",
      "Индекс значения: 14\n",
      "Потрачено времени: 0 ns\n"
     ]
    }
   ],
   "source": [
    "#Метод Фибоначчи\n",
    "fibonacci_arr = copy.copy(array)\n",
    "fibonacci_arr.sort()\n",
    "\n",
    "print(\"Исходный массив:\")\n",
    "print(fibonacci_arr)\n",
    "print(\"Искомое значение:\", end=\" \")\n",
    "find_val = int(input())\n",
    "\n",
    "\n",
    "def fibonacci_search(array, num):\n",
    "    size = len(array)\n",
    "\n",
    "    start = -1\n",
    "\n",
    "    f0 = 0\n",
    "    f1 = 1\n",
    "    f2 = 1\n",
    "    while f2 < size:\n",
    "        f0 = f1\n",
    "        f1 = f2\n",
    "        f2 = f1 + f0\n",
    "\n",
    "    while f2 > 1:\n",
    "        index = min(start + f0, size - 1)\n",
    "        if array[index] < num:\n",
    "            f2 = f1\n",
    "            f1 = f0\n",
    "            f0 = f2 - f1\n",
    "            start = index\n",
    "        elif array[index] > num:\n",
    "            f2 = f0\n",
    "            f1 = f1 - f0\n",
    "            f0 = f2 - f1\n",
    "        else:\n",
    "            return index\n",
    "    if f1 and (array[size - 1] == num):\n",
    "        return size - 1\n",
    "    return -1\n",
    "\n",
    "\n",
    "start_time = time.time()\n",
    "rez = fibonacci_search(fibonacci_arr, find_val)\n",
    "fibonacci_search_time = round((time.time() - start_time)*1000000000)\n",
    "\n",
    "if rez > -1:\n",
    "    print(\"Индекс значения:\", rez)\n",
    "else:\n",
    "    print(\"Значение не найдено!\")\n",
    "\n",
    "print(\"Потрачено времени:\", fibonacci_search_time, \"ns\")"
   ]
  },
  {
   "cell_type": "code",
   "execution_count": 26,
   "id": "b2455c59",
   "metadata": {},
   "outputs": [
    {
     "name": "stdout",
     "output_type": "stream",
     "text": [
      "Исходный массив:\n",
      "[1, 5, 11, 18, 19, 22, 24, 27, 32, 37, 39, 45, 50, 51, 56, 68, 68, 68, 76, 97]\n",
      "Удалить значение: 18\n",
      "[1, 5, 11, 19, 22, 24, 27, 32, 37, 39, 45, 50, 51, 56, 68, 68, 68, 76, 97]\n"
     ]
    }
   ],
   "source": [
    "fibonacci_delete_arr = copy.copy(fibonacci_arr)\n",
    "\n",
    "\n",
    "def fibonacci_delete(array, num):\n",
    "    index = fibonacci_search(array, num)\n",
    "    if index > -1:\n",
    "        array.pop(index)\n",
    "    return array\n",
    "\n",
    "\n",
    "print(\"Исходный массив:\")\n",
    "print(fibonacci_delete_arr)\n",
    "print(\"Удалить значение:\", end=\" \")\n",
    "delete_value = int(input())\n",
    "fibonacci_delete_arr = fibonacci_delete(fibonacci_delete_arr, delete_value)\n",
    "print(fibonacci_delete_arr)"
   ]
  },
  {
   "cell_type": "code",
   "execution_count": 27,
   "id": "d440eb3a",
   "metadata": {},
   "outputs": [
    {
     "name": "stdout",
     "output_type": "stream",
     "text": [
      "Исходный массив:\n",
      "[1, 5, 11, 19, 22, 24, 27, 32, 37, 39, 45, 50, 51, 56, 68, 68, 68, 76, 97]\n",
      "Вставить значение: 18\n",
      "[1, 5, 11, 18, 19, 22, 24, 27, 32, 37, 39, 45, 50, 51, 56, 68, 68, 68, 76, 97]\n"
     ]
    }
   ],
   "source": [
    "fibonacci_insert_arr = copy.copy(fibonacci_delete_arr)\n",
    "\n",
    "\n",
    "def fibonacci_append(array, num):\n",
    "    size = len(array)\n",
    "\n",
    "    start = -1\n",
    "\n",
    "    f0 = 0\n",
    "    f1 = 1\n",
    "    f2 = 1\n",
    "    while f2 < size:\n",
    "        f0 = f1\n",
    "        f1 = f2\n",
    "        f2 = f1 + f0\n",
    "\n",
    "    while f2 > 1:\n",
    "        index = min(start + f0, size - 1)\n",
    "        if num == array[index]:\n",
    "            array.insert(index, num)\n",
    "            return array\n",
    "        elif index == 0:\n",
    "            if array[index] > num:\n",
    "                array.insert(index, num)\n",
    "                return array\n",
    "            else:\n",
    "                array.insert(index + 1, num)\n",
    "                return array\n",
    "        elif index == len(array) - 1:\n",
    "            if array[index] > num:\n",
    "                array.insert(index, num)\n",
    "                return array\n",
    "            else:\n",
    "                array.append(num)\n",
    "                return array\n",
    "        elif array[index] <= num <= array[index + 1]:\n",
    "            array.insert(index + 1, num)\n",
    "            return array\n",
    "        elif array[index] < num:\n",
    "            f2 = f1\n",
    "            f1 = f0\n",
    "            f0 = f2 - f1\n",
    "            start = index\n",
    "        elif array[index] > num:\n",
    "            f2 = f0\n",
    "            f1 = f1 - f0\n",
    "            f0 = f2 - f1\n",
    "            \n",
    "            \n",
    "print(\"Исходный массив:\")\n",
    "print(fibonacci_insert_arr)\n",
    "print(\"Вставить значение:\", end=\" \")\n",
    "insert_value = int(input())\n",
    "fibonacci_insert_arr = fibonacci_append(fibonacci_insert_arr, insert_value)\n",
    "print(fibonacci_insert_arr)"
   ]
  },
  {
   "cell_type": "code",
   "execution_count": 77,
   "id": "34ec2894",
   "metadata": {},
   "outputs": [
    {
     "name": "stdout",
     "output_type": "stream",
     "text": [
      "Исходный массив:\n",
      "[1, 5, 11, 18, 19, 22, 24, 27, 32, 37, 39, 45, 50, 51, 56, 68, 68, 68, 76, 97]\n",
      "Искомое значение: 37\n",
      "Индекс значения: 9\n",
      "Потрачено времени: 0 ns\n"
     ]
    }
   ],
   "source": [
    "#Интерполяционный\n",
    "interpol_arr = copy.copy(array)\n",
    "interpol_arr.sort()\n",
    "\n",
    "print(\"Исходный массив:\")\n",
    "print(interpol_arr)\n",
    "print(\"Искомое значение:\", end=\" \")\n",
    "find_val = int(input())\n",
    "\n",
    "\n",
    "def interpol_search(array, num):\n",
    "    low = 0\n",
    "    high = (len(array) - 1)\n",
    "    while low <= high and array[low] <= num <= array[high]:\n",
    "        index = low + int(((float(high - low) / (array[high] - array[low])) * (num - array[low])))\n",
    "        if array[index] == num:\n",
    "            return index\n",
    "        if array[index] < num:\n",
    "            low = index + 1\n",
    "        else:\n",
    "            high = index - 1\n",
    "    return -1\n",
    "\n",
    "\n",
    "start_time = time.time()\n",
    "rez = interpol_search(interpol_arr, find_val)\n",
    "interpol_search_time = round((time.time() - start_time)*1000000000)\n",
    "\n",
    "if rez > -1:\n",
    "    print(\"Индекс значения:\", rez)\n",
    "else:\n",
    "    print(\"Значение не найдено!\")\n",
    "\n",
    "print(\"Потрачено времени:\", interpol_search_time, \"ns\")"
   ]
  },
  {
   "cell_type": "code",
   "execution_count": 29,
   "id": "9a57b591",
   "metadata": {},
   "outputs": [
    {
     "name": "stdout",
     "output_type": "stream",
     "text": [
      "Исходный массив:\n",
      "[1, 5, 11, 18, 19, 22, 24, 27, 32, 37, 39, 45, 50, 51, 56, 68, 68, 68, 76, 97]\n",
      "Удалить значение: 97\n",
      "[1, 5, 11, 18, 19, 22, 24, 27, 32, 37, 39, 45, 50, 51, 56, 68, 68, 68, 76]\n"
     ]
    }
   ],
   "source": [
    "interpol_delete_arr = copy.copy(interpol_arr)\n",
    "\n",
    "\n",
    "def interpol_delete(array, num):\n",
    "    index = interpol_search(array, num)\n",
    "    if index > -1:\n",
    "        array.pop(index)\n",
    "    return array\n",
    "\n",
    "\n",
    "print(\"Исходный массив:\")\n",
    "print(interpol_delete_arr)\n",
    "print(\"Удалить значение:\", end=\" \")\n",
    "delete_value = int(input())\n",
    "interpol_delete_arr = interpol_delete(interpol_delete_arr, delete_value)\n",
    "print(interpol_delete_arr)"
   ]
  },
  {
   "cell_type": "code",
   "execution_count": 30,
   "id": "f71d089d",
   "metadata": {},
   "outputs": [
    {
     "name": "stdout",
     "output_type": "stream",
     "text": [
      "Исходный массив:\n",
      "[1, 5, 11, 18, 19, 22, 24, 27, 32, 37, 39, 45, 50, 51, 56, 68, 68, 68, 76]\n",
      "Вставить значение: 0\n",
      "[0, 1, 5, 11, 18, 19, 22, 24, 27, 32, 37, 39, 45, 50, 51, 56, 68, 68, 68, 76]\n"
     ]
    }
   ],
   "source": [
    "interpol_insert_arr = copy.copy(interpol_delete_arr)\n",
    "\n",
    "\n",
    "def interpol_append(array, num):\n",
    "    low = 0\n",
    "    high = (len(array) - 1)\n",
    "    while low <= high and array[low] <= num <= array[high]:\n",
    "        index = low + int(((float(high - low) / (array[high] - array[low])) * (num - array[low])))\n",
    "        if array[index] == num:\n",
    "            array.insert(index, num)\n",
    "            return array\n",
    "        if array[index] < num:\n",
    "            low = index + 1\n",
    "        else:\n",
    "            high = index - 1\n",
    "    if array[low] > num:\n",
    "        array.insert(low, num)\n",
    "    elif array[high] < num:\n",
    "        array.insert(high + 1, num)\n",
    "    return array\n",
    "\n",
    "print(\"Исходный массив:\")\n",
    "print(interpol_insert_arr)\n",
    "print(\"Вставить значение:\", end=\" \")\n",
    "insert_value = int(input())\n",
    "interpol_insert_arr = interpol_append(interpol_insert_arr, insert_value)\n",
    "print(interpol_insert_arr)"
   ]
  },
  {
   "cell_type": "code",
   "execution_count": 76,
   "id": "765f315e",
   "metadata": {},
   "outputs": [
    {
     "name": "stdout",
     "output_type": "stream",
     "text": [
      "Исходный массив:\n",
      "[68, 51, 27, 68, 45, 68, 50, 39, 22, 32, 11, 76, 1, 5, 37, 97, 56, 24, 19, 18]\n",
      "Искомое значение: 32\n",
      "Индекс значения: 9\n",
      "Потрачено времени: 0 ns\n"
     ]
    }
   ],
   "source": [
    "#Стандартная функция\n",
    "print(\"Исходный массив:\")\n",
    "print(array)\n",
    "print(\"Искомое значение:\", end=\" \")\n",
    "find_val = int(input())\n",
    "\n",
    "start_time = time.time()\n",
    "rez = array.index(find_val)\n",
    "standart_search_time = round((time.time() - start_time)*1000000000)\n",
    "\n",
    "print(\"Индекс значения:\", rez)\n",
    "print(\"Потрачено времени:\", standart_search_time, \"ns\")"
   ]
  },
  {
   "cell_type": "markdown",
   "id": "maritime-conversation",
   "metadata": {},
   "source": [
    "### Задание №2\n",
    "Написать соответствующие решения для заданных методов."
   ]
  },
  {
   "cell_type": "code",
   "execution_count": null,
   "id": "97f9de37",
   "metadata": {},
   "outputs": [],
   "source": [
    "#Простое рехэширование"
   ]
  },
  {
   "cell_type": "code",
   "execution_count": null,
   "id": "b4b80e3a",
   "metadata": {},
   "outputs": [],
   "source": [
    "#Рехэширование с помощью псевдослучайных чисел\n"
   ]
  },
  {
   "cell_type": "code",
   "execution_count": null,
   "id": "1addc092",
   "metadata": {},
   "outputs": [],
   "source": [
    "#Метод цепочек"
   ]
  },
  {
   "cell_type": "markdown",
   "id": "catholic-roots",
   "metadata": {},
   "source": [
    "### Задание №3\n",
    "Расставить на стандартной 64-клеточной шахматной доске 8 ферзей так, чтобы ни один из них не находился под боем другого». Подразумевается, что ферзь бьёт все клетки, расположенные по вертикалям, горизонталям и обеим диагоналям\n",
    "Написать программу,  которая находит хотя бы один способ решения задач.\n"
   ]
  },
  {
   "cell_type": "code",
   "execution_count": null,
   "id": "09de30c9",
   "metadata": {},
   "outputs": [],
   "source": []
  }
 ],
 "metadata": {
  "kernelspec": {
   "display_name": "Python 3 (ipykernel)",
   "language": "python",
   "name": "python3"
  },
  "language_info": {
   "codemirror_mode": {
    "name": "ipython",
    "version": 3
   },
   "file_extension": ".py",
   "mimetype": "text/x-python",
   "name": "python",
   "nbconvert_exporter": "python",
   "pygments_lexer": "ipython3",
   "version": "3.10.2"
  }
 },
 "nbformat": 4,
 "nbformat_minor": 5
}
