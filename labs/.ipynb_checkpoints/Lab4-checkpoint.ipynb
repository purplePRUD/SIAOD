{
 "cells": [
  {
   "cell_type": "markdown",
   "id": "fifteen-sailing",
   "metadata": {},
   "source": [
    "# Лабораторная работа №4\n",
    "## Выполнил студент группы Куликов Павел Максимович БВТ2005"
   ]
  },
  {
   "cell_type": "markdown",
   "id": "arctic-stocks",
   "metadata": {},
   "source": [
    "Реализовать следующие структуры данных:\n",
    "  \n",
    "● <b> Стек (stack): </b>  \n",
    "Операции для стека: \n",
    "<i> инициализация, проверка на пустоту, добавление нового элемента в начало, извлечение элемента из начала;  </i>  \n",
    "  \n",
    "● <b> Дек (двусторонняя очередь, deque):  </b>  \n",
    "Операции для дека: \n",
    "<i> инициализация, проверка на пустоту, добавление нового элемента в начало, добавление нового элемента в конец, извлечение элемента из начала, извлечение элемента из конца. </i>  \n",
    "  \n",
    "<i> Разработать программу обработки данных, содержащихся в заранее подготовленном txt-файле, в соответствии с заданиями, применив указанную в задании структуру данных. Результат работы программы вывести на экран и сохранить в отдельном txt-файле. </i>"
   ]
  },
  {
   "cell_type": "code",
   "execution_count": 1,
   "id": "0de6d5f2",
   "metadata": {},
   "outputs": [],
   "source": [
    "class Stack:\n",
    "    def __init__(self, data=[]):\n",
    "        self.stack = data\n",
    "        \n",
    "    def is_empty(self):\n",
    "        return False if len(self.stack) else True\n",
    "    \n",
    "    def append(self, item):\n",
    "        self.stack.append(item)\n",
    "    \n",
    "    def pop(self):\n",
    "        return self.stack.pop()\n",
    "    \n",
    "    def __str__(self):\n",
    "        string_view = \"[\" + \", \".join(map(str, self.stack)) + \"]\"\n",
    "        return string_view\n",
    "\n",
    "\n",
    "class Deque:\n",
    "    def __init__(self, data=[]):\n",
    "        self.deque = data\n",
    "\n",
    "    def is_empty(self):\n",
    "        return False if len(self.deque) else True\n",
    "\n",
    "    def append_left(self, item):\n",
    "        self.deque.insert(0, item)\n",
    "\n",
    "    def append_right(self, item):\n",
    "        self.deque.append(item)\n",
    "\n",
    "    def pop_left(self):\n",
    "        return self.deque.pop(0)\n",
    "\n",
    "    def pop_right(self):\n",
    "        return self.deque.pop()\n",
    "    \n",
    "    def show_left(self):\n",
    "        if len(self.deque) != 0:\n",
    "            return self.deque[0]\n",
    "        else:\n",
    "            return None\n",
    "    \n",
    "    def show_right(self):\n",
    "        if len(self.deque) != 0:\n",
    "            return self.deque[len(self.deque) - 1]\n",
    "        else:\n",
    "            return None\n",
    "\n",
    "    def __str__(self):\n",
    "        string_view = \"[\" + \", \".join(map(str, self.deque)) + \"]\"\n",
    "        return string_view"
   ]
  },
  {
   "cell_type": "markdown",
   "id": "5d7edb08",
   "metadata": {
    "scrolled": true
   },
   "source": [
    "### Задание №1\n",
    "Отсортировать строки файла, содержащие названия книг, в алфавитном порядке с использованием двух деков."
   ]
  },
  {
   "cell_type": "code",
   "execution_count": 2,
   "id": "4452f7df",
   "metadata": {},
   "outputs": [
    {
     "name": "stdout",
     "output_type": "stream",
     "text": [
      "Преступление и наказание\n",
      "Война и мир\n",
      "Золотой теленок\n",
      "Граф Монте-Кристо\n",
      "Мастер и Маргарита\n",
      "Мёртвые души\n",
      "Собачье сердце\n"
     ]
    }
   ],
   "source": [
    "temp = []\n",
    "with open(\"Files for Lab4/input_task1.txt\", \"r\") as file:\n",
    "    for line in file:\n",
    "        temp.append(line.replace('\\n', ''))\n",
    "print(\"\\n\".join(map(str,temp)))"
   ]
  },
  {
   "cell_type": "code",
   "execution_count": 3,
   "id": "17702ade",
   "metadata": {},
   "outputs": [
    {
     "name": "stdout",
     "output_type": "stream",
     "text": [
      "Война и мир\n",
      "Граф Монте-Кристо\n",
      "Золотой теленок\n",
      "Мастер и Маргарита\n",
      "Мёртвые души\n",
      "Преступление и наказание\n",
      "Собачье сердце\n"
     ]
    }
   ],
   "source": [
    "def deq_sort(books):\n",
    "    deque_one = Deque(books)\n",
    "    deque_two = Deque()\n",
    "\n",
    "    while not deque_one.is_empty():\n",
    "        template = deque_one.pop_left()\n",
    "        if not deque_two.is_empty():\n",
    "            if template >= deque_two.show_right():\n",
    "                deque_two.append_right(template)\n",
    "            elif template <= deque_two.show_left():\n",
    "                deque_two.append_left(template)\n",
    "            else:\n",
    "                while template > deque_two.show_left() and not deque_two.is_empty():\n",
    "                    deque_one.append_left(deque_two.pop_left())\n",
    "                deque_two.append_left(template)\n",
    "        else:\n",
    "            deque_two.append_right(template)\n",
    "    return deque_two.deque\n",
    "\n",
    "\n",
    "sorted = deq_sort(temp)\n",
    "with open(\"Files for Lab4/output_task1.txt\", \"w\") as file:\n",
    "        file.writelines(\"\\n\".join(map(str, sorted)))\n",
    "with open(\"Files for Lab4/output_task1.txt\", \"r\") as file:\n",
    "    print(\"\".join(map(str,file.readlines())))"
   ]
  },
  {
   "cell_type": "markdown",
   "id": "49fbd2a0",
   "metadata": {},
   "source": [
    "### Задание №2\n",
    "Дек содержит последовательность символов для шифровки сообщений. Дан текстовый файл, содержащий зашифрованное сообщение. Пользуясь деком, расшифровать текст. \n",
    "Известно, что при шифровке каждый символ сообщения заменялся следующим за ним в деке по часовой стрелке через один."
   ]
  },
  {
   "cell_type": "code",
   "execution_count": null,
   "id": "81cab7a8",
   "metadata": {},
   "outputs": [],
   "source": []
  },
  {
   "cell_type": "markdown",
   "id": "c0894f47",
   "metadata": {},
   "source": [
    "### Задание №3\n",
    "Даны три стержня и n дисков различного размера. Диски можно надевать на стержни, образуя из них башни. Перенести n дисков со стержня А на стержень С, сохранив их первоначальный порядок. При переносе дисков необходимо соблюдать следующие правила:\n",
    "- на каждом шаге со стержня на стержень переносить только один диск;\n",
    "- диск нельзя помещать на диск меньшего размера;\n",
    "- для промежуточного хранения можно использовать стержень В.\n",
    "Реализовать алгоритм, используя три стека вместо стержней А, В, С. Информация о дисках хранится в исходном файле."
   ]
  },
  {
   "cell_type": "code",
   "execution_count": null,
   "id": "9e91a9d4",
   "metadata": {},
   "outputs": [],
   "source": []
  },
  {
   "cell_type": "markdown",
   "id": "e5b0be17",
   "metadata": {},
   "source": [
    "### Задание №4\n",
    "Дан текстовый файл с программой на алгоритмическом языке. За один просмотр файла проверить баланс круглых скобок в тексте, используя стек."
   ]
  },
  {
   "cell_type": "code",
   "execution_count": null,
   "id": "5b1df60a",
   "metadata": {},
   "outputs": [],
   "source": []
  },
  {
   "cell_type": "markdown",
   "id": "c44cdd6b",
   "metadata": {},
   "source": [
    "### Задание №5\n",
    "Дан текстовый файл с программой на алгоритмическом языке. За один просмотр файла проверить баланс квадратных скобок в тексте, используя дек."
   ]
  },
  {
   "cell_type": "code",
   "execution_count": null,
   "id": "36b8f400",
   "metadata": {},
   "outputs": [],
   "source": []
  },
  {
   "cell_type": "markdown",
   "id": "59d13dc7",
   "metadata": {},
   "source": [
    "### Задание №6\n",
    "Дан файл из символов. Используя стек, за один просмотр файла напечатать сначала все цифры, затем все буквы, и, наконец, все остальные символы, сохраняя исходный порядок в каждой группе символов."
   ]
  },
  {
   "cell_type": "code",
   "execution_count": null,
   "id": "297e36c2",
   "metadata": {},
   "outputs": [],
   "source": []
  },
  {
   "cell_type": "markdown",
   "id": "973f68bd",
   "metadata": {},
   "source": [
    "### Задание №7\n",
    "Дан файл из целых чисел. Используя дек, за один просмотр файла напечатать сначала все отрицательные числа, затем все положительные числа, сохраняя исходный порядок в каждой группе."
   ]
  },
  {
   "cell_type": "code",
   "execution_count": null,
   "id": "c56fad66",
   "metadata": {},
   "outputs": [],
   "source": []
  },
  {
   "cell_type": "markdown",
   "id": "b9228191",
   "metadata": {},
   "source": [
    "### Задание №8\n",
    "Дан текстовый файл. Используя стек, сформировать новый текстовый файл, содержащий строки исходного файла, записанные в обратном порядке: первая строка становится последней, вторая – предпоследней и т.д."
   ]
  },
  {
   "cell_type": "code",
   "execution_count": null,
   "id": "981fbdfe",
   "metadata": {},
   "outputs": [],
   "source": []
  },
  {
   "cell_type": "markdown",
   "id": "rental-jerusalem",
   "metadata": {},
   "source": [
    "### Вывод\n"
   ]
  },
  {
   "cell_type": "markdown",
   "id": "0c2b8899",
   "metadata": {},
   "source": []
  }
 ],
 "metadata": {
  "kernelspec": {
   "display_name": "Python 3 (ipykernel)",
   "language": "python",
   "name": "python3"
  },
  "language_info": {
   "codemirror_mode": {
    "name": "ipython",
    "version": 3
   },
   "file_extension": ".py",
   "mimetype": "text/x-python",
   "name": "python",
   "nbconvert_exporter": "python",
   "pygments_lexer": "ipython3",
   "version": "3.10.2"
  }
 },
 "nbformat": 4,
 "nbformat_minor": 5
}
