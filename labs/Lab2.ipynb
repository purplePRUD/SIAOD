{
 "cells": [
  {
   "cell_type": "markdown",
   "id": "fifteen-sailing",
   "metadata": {},
   "source": [
    "# Лабораторная работа №2\n",
    "## Выполнил студент группы ГРУППА ФИО"
   ]
  },
  {
   "cell_type": "markdown",
   "id": "particular-syndicate",
   "metadata": {},
   "source": [
    "### Оглавление\n",
    "1. [Задание 1](#Задание-№1)\n",
    "2. [Задание 2](#Задание-№2)\n",
    "3. [Задание 3](#Задание-№3)"
   ]
  },
  {
   "cell_type": "markdown",
   "id": "arctic-stocks",
   "metadata": {},
   "source": [
    "### Задание №1\n",
    "Реализовать методы поиска в соответствии с заданием. Организовать генерацию начального набора случайных данных. Для всех вариантов добавить реализацию добавления, поиска и удаления элементов. Оценить время работы каждого алгоритма поиска и сравнить его со временем работы стандартной функции поиска, используемой в выбранном языке программирования."
   ]
  },
  {
   "cell_type": "code",
   "execution_count": 1,
   "id": "3d623ff5",
   "metadata": {},
   "outputs": [
    {
     "name": "stdout",
     "output_type": "stream",
     "text": [
      "Длина массива: 20\n",
      "Минимальное значение: 0\n",
      "Максимальное значение: 99\n",
      "[2, 5, 9, 12, 21, 22, 22, 23, 24, 25, 37, 42, 44, 46, 58, 61, 66, 70, 75, 94]\n",
      "Искомое значение: 9\n"
     ]
    }
   ],
   "source": [
    "import random\n",
    "import time\n",
    "import copy\n",
    "\n",
    "print(\"Длина массива:\", end=\" \")\n",
    "lenght = int(input())\n",
    "print(\"Минимальное значение:\", end=\" \")\n",
    "min_value = int(input())\n",
    "print(\"Максимальное значение:\", end=\" \")\n",
    "max_value = int(input())\n",
    "\n",
    "array = [random.randint(min_value, max_value) for i in range(lenght)]\n",
    "array.sort()\n",
    "print(array)\n",
    "\n",
    "print(\"Искомое значение:\", end=\" \")\n",
    "find_val = int(input())"
   ]
  },
  {
   "cell_type": "code",
   "execution_count": 2,
   "id": "caring-truck",
   "metadata": {
    "scrolled": true
   },
   "outputs": [
    {
     "name": "stdout",
     "output_type": "stream",
     "text": [
      "Индекс значения: 2\n",
      "Потрачено времени: 0 ns\n"
     ]
    }
   ],
   "source": [
    "#Бинарный поиск\n",
    "binary_arr = copy.copy(array)\n",
    "\n",
    "\n",
    "def binary_search(array, num):\n",
    "    lower = 0\n",
    "    upper = len(array) - 1\n",
    "\n",
    "    while lower < upper:\n",
    "        center = (lower + upper) // 2\n",
    "        if num == array[center]:\n",
    "            return center\n",
    "        elif num < array[center]:\n",
    "            upper = center - 1\n",
    "        elif num > array[center]:\n",
    "            lower = center + 1\n",
    "    return -1\n",
    "\n",
    "\n",
    "start_time = time.time()\n",
    "rez = binary_search(binary_arr, find_val)\n",
    "binary_search_time = round((time.time() - start_time)*1000000)\n",
    "\n",
    "if rez > -1:\n",
    "    print(\"Индекс значения:\", rez)\n",
    "else:\n",
    "    print(\"Значение не найдено!\")\n",
    "\n",
    "print(\"Потрачено времени:\", binary_search_time, \"ns\")"
   ]
  },
  {
   "cell_type": "code",
   "execution_count": 5,
   "id": "ca6bc531",
   "metadata": {},
   "outputs": [
    {
     "name": "stdout",
     "output_type": "stream",
     "text": [
      "Исходный массив:\n",
      "[2, 5, 9, 12, 21, 22, 22, 23, 24, 25, 37, 42, 44, 46, 58, 61, 66, 70, 75, 94]\n",
      "Удалить значение: 21\n",
      "[2, 5, 9, 12, 22, 22, 23, 24, 25, 37, 42, 44, 46, 58, 61, 66, 70, 75, 94]\n"
     ]
    }
   ],
   "source": [
    "binary_delete_arr = copy.copy(binary_arr)\n",
    "\n",
    "\n",
    "def binary_delete(array, num):\n",
    "    index = binary_search(array, num)\n",
    "    if index > -1:\n",
    "        array.pop(index)\n",
    "    return array\n",
    "\n",
    "\n",
    "print(\"Исходный массив:\")\n",
    "print(binary_delete_arr)\n",
    "print(\"Удалить значение:\", end=\" \")\n",
    "delete_value = int(input())\n",
    "binary_delete_arr = binary_delete(binary_delete_arr, delete_value)\n",
    "print(binary_delete_arr)"
   ]
  },
  {
   "cell_type": "code",
   "execution_count": 6,
   "id": "686bfadf",
   "metadata": {},
   "outputs": [
    {
     "name": "stdout",
     "output_type": "stream",
     "text": [
      "Исходный массив:\n",
      "[2, 5, 9, 12, 22, 22, 23, 24, 25, 37, 42, 44, 46, 58, 61, 66, 70, 75, 94]\n",
      "Вставить значение: 26\n",
      "[2, 5, 9, 12, 22, 22, 23, 24, 25, 26, 37, 42, 44, 46, 58, 61, 66, 70, 75, 94]\n"
     ]
    }
   ],
   "source": [
    "binary_insert_arr = copy.copy(binary_delete_arr)\n",
    "\n",
    "\n",
    "def binary_append(array, num):\n",
    "    lower = 0\n",
    "    upper = len(array) - 1\n",
    "\n",
    "    while lower <= upper:\n",
    "        center = (lower + upper) // 2\n",
    "        if num == array[center]:\n",
    "            array.insert(center, num)\n",
    "            return array\n",
    "        elif center == 0:\n",
    "            if array[center] > num:\n",
    "                array.insert(center, num)\n",
    "                return array\n",
    "            else:\n",
    "                array.insert(center + 1, num)\n",
    "                return array\n",
    "        elif center == len(array) - 1:\n",
    "            if array[center] > num:\n",
    "                array.insert(center, num)\n",
    "                return array\n",
    "            else:\n",
    "                array.append(num)\n",
    "                return array\n",
    "        elif array[center] <= num <= array[center + 1]:\n",
    "            array.insert(center + 1, num)\n",
    "            return array\n",
    "        elif num < array[center]:\n",
    "            upper = center - 1\n",
    "        elif num > array[center]:\n",
    "            lower = center + 1\n",
    "\n",
    "\n",
    "print(\"Исходный массив:\")\n",
    "print(binary_insert_arr)\n",
    "print(\"Вставить значение:\", end=\" \")\n",
    "insert_value = int(input())\n",
    "binary_insert_arr = binary_append(binary_insert_arr, insert_value)\n",
    "print(binary_insert_arr)"
   ]
  },
  {
   "cell_type": "code",
   "execution_count": null,
   "id": "75af3ea8",
   "metadata": {},
   "outputs": [],
   "source": [
    "#Бинарное дерево"
   ]
  },
  {
   "cell_type": "code",
   "execution_count": 7,
   "id": "abe4b0b4",
   "metadata": {},
   "outputs": [
    {
     "name": "stdout",
     "output_type": "stream",
     "text": [
      "Исходный массив:\n",
      "[2, 5, 9, 12, 21, 22, 22, 23, 24, 25, 37, 42, 44, 46, 58, 61, 66, 70, 75, 94]\n",
      "Искомое значение: 12\n",
      "Индекс значения: 3\n",
      "Потрачено времени: 0 ns\n"
     ]
    }
   ],
   "source": [
    "#Метод Фибоначчи\n",
    "fibonacci_arr = copy.copy(array)\n",
    "\n",
    "print(\"Исходный массив:\")\n",
    "print(fibonacci_arr)\n",
    "print(\"Искомое значение:\", end=\" \")\n",
    "find_val = int(input())\n",
    "\n",
    "\n",
    "def fibonacci_search(array, num):\n",
    "    size = len(array)\n",
    "\n",
    "    start = -1\n",
    "\n",
    "    f0 = 0\n",
    "    f1 = 1\n",
    "    f2 = 1\n",
    "    while f2 < size:\n",
    "        f0 = f1\n",
    "        f1 = f2\n",
    "        f2 = f1 + f0\n",
    "\n",
    "    while f2 > 1:\n",
    "        index = min(start + f0, size - 1)\n",
    "        if array[index] < num:\n",
    "            f2 = f1\n",
    "            f1 = f0\n",
    "            f0 = f2 - f1\n",
    "            start = index\n",
    "        elif array[index] > num:\n",
    "            f2 = f0\n",
    "            f1 = f1 - f0\n",
    "            f0 = f2 - f1\n",
    "        else:\n",
    "            return index\n",
    "    if f1 and (array[size - 1] == num):\n",
    "        return size - 1\n",
    "    return -1\n",
    "\n",
    "\n",
    "start_time = time.time()\n",
    "rez = fibonacci_search(fibonacci_arr, find_val)\n",
    "fibonacci_search_time = round((time.time() - start_time)*1000000)\n",
    "\n",
    "if rez > -1:\n",
    "    print(\"Индекс значения:\", rez)\n",
    "else:\n",
    "    print(\"Значение не найдено!\")\n",
    "\n",
    "print(\"Потрачено времени:\", fibonacci_search_time, \"ns\")"
   ]
  },
  {
   "cell_type": "code",
   "execution_count": 8,
   "id": "b2455c59",
   "metadata": {},
   "outputs": [
    {
     "name": "stdout",
     "output_type": "stream",
     "text": [
      "Исходный массив:\n",
      "[2, 5, 9, 12, 21, 22, 22, 23, 24, 25, 37, 42, 44, 46, 58, 61, 66, 70, 75, 94]\n",
      "Удалить значение: 12\n",
      "[2, 5, 9, 21, 22, 22, 23, 24, 25, 37, 42, 44, 46, 58, 61, 66, 70, 75, 94]\n"
     ]
    }
   ],
   "source": [
    "fibonacci_delete_arr = copy.copy(fibonacci_arr)\n",
    "\n",
    "\n",
    "def fibonacci_delete(array, num):\n",
    "    index = fibonacci_search(array, num)\n",
    "    if index > -1:\n",
    "        array.pop(index)\n",
    "    return array\n",
    "\n",
    "\n",
    "print(\"Исходный массив:\")\n",
    "print(fibonacci_delete_arr)\n",
    "print(\"Удалить значение:\", end=\" \")\n",
    "delete_value = int(input())\n",
    "fibonacci_delete_arr = fibonacci_delete(fibonacci_delete_arr, delete_value)\n",
    "print(fibonacci_delete_arr)"
   ]
  },
  {
   "cell_type": "code",
   "execution_count": 9,
   "id": "ff5a3528",
   "metadata": {},
   "outputs": [
    {
     "name": "stdout",
     "output_type": "stream",
     "text": [
      "Исходный массив:\n",
      "[2, 5, 9, 21, 22, 22, 23, 24, 25, 37, 42, 44, 46, 58, 61, 66, 70, 75, 94]\n",
      "Вставить значение: 45\n",
      "[2, 5, 9, 21, 22, 22, 23, 24, 25, 37, 42, 44, 45, 46, 58, 61, 66, 70, 75, 94]\n"
     ]
    }
   ],
   "source": [
    "fibonacci_insert_arr = copy.copy(fibonacci_delete_arr)\n",
    "\n",
    "\n",
    "def fibonacci_append(array, num):\n",
    "    size = len(array)\n",
    "\n",
    "    start = -1\n",
    "\n",
    "    f0 = 0\n",
    "    f1 = 1\n",
    "    f2 = 1\n",
    "    while f2 < size:\n",
    "        f0 = f1\n",
    "        f1 = f2\n",
    "        f2 = f1 + f0\n",
    "\n",
    "    while f2 > 1:\n",
    "        index = min(start + f0, size - 1)\n",
    "        if num == array[index]:\n",
    "            array.insert(index, num)\n",
    "            return array\n",
    "        elif index == 0:\n",
    "            if array[index] > num:\n",
    "                array.insert(index, num)\n",
    "                return array\n",
    "            else:\n",
    "                array.insert(index + 1, num)\n",
    "                return array\n",
    "        elif index == len(array) - 1:\n",
    "            if array[index] > num:\n",
    "                array.insert(index, num)\n",
    "                return array\n",
    "            else:\n",
    "                array.append(num)\n",
    "                return array\n",
    "        elif array[index] <= num <= array[index + 1]:\n",
    "            array.insert(index + 1, num)\n",
    "            return array\n",
    "        elif array[index] < num:\n",
    "            f2 = f1\n",
    "            f1 = f0\n",
    "            f0 = f2 - f1\n",
    "            start = index\n",
    "        elif array[index] > num:\n",
    "            f2 = f0\n",
    "            f1 = f1 - f0\n",
    "            f0 = f2 - f1\n",
    "            \n",
    "            \n",
    "print(\"Исходный массив:\")\n",
    "print(fibonacci_insert_arr)\n",
    "print(\"Вставить значение:\", end=\" \")\n",
    "insert_value = int(input())\n",
    "fibonacci_insert_arr = fibonacci_append(fibonacci_insert_arr, insert_value)\n",
    "print(fibonacci_insert_arr)"
   ]
  },
  {
   "cell_type": "code",
   "execution_count": 10,
   "id": "34ec2894",
   "metadata": {},
   "outputs": [
    {
     "name": "stdout",
     "output_type": "stream",
     "text": [
      "Исходный массив:\n",
      "[2, 5, 9, 12, 21, 22, 22, 23, 24, 25, 37, 42, 44, 46, 58, 61, 66, 70, 75, 94]\n",
      "Искомое значение: 5\n",
      "Индекс значения: 1\n",
      "Потрачено времени: 0 ns\n"
     ]
    }
   ],
   "source": [
    "#Интерполяционный\n",
    "interpol_arr = copy.copy(array)\n",
    "\n",
    "print(\"Исходный массив:\")\n",
    "print(interpol_arr)\n",
    "print(\"Искомое значение:\", end=\" \")\n",
    "find_val = int(input())\n",
    "\n",
    "\n",
    "def interpol_search(array, num):\n",
    "    low = 0\n",
    "    high = (len(array) - 1)\n",
    "    while low <= high and array[low] <= num <= array[high]:\n",
    "        index = low + int(((float(high - low) / (array[high] - array[low])) * (num - array[low])))\n",
    "        if array[index] == num:\n",
    "            return index\n",
    "        if array[index] < num:\n",
    "            low = index + 1\n",
    "        else:\n",
    "            high = index - 1\n",
    "    return -1\n",
    "\n",
    "\n",
    "start_time = time.time()\n",
    "rez = interpol_search(interpol_arr, find_val)\n",
    "interpol_search_time = round((time.time() - start_time)*1000000)\n",
    "\n",
    "if rez > -1:\n",
    "    print(\"Индекс значения:\", rez)\n",
    "else:\n",
    "    print(\"Значение не найдено!\")\n",
    "\n",
    "print(\"Потрачено времени:\", interpol_search_time, \"ns\")"
   ]
  },
  {
   "cell_type": "code",
   "execution_count": 14,
   "id": "d5ca8b06",
   "metadata": {},
   "outputs": [
    {
     "name": "stdout",
     "output_type": "stream",
     "text": [
      "Исходный массив:\n",
      "[2, 5, 9, 12, 21, 22, 22, 23, 24, 25, 37, 42, 44, 46, 58, 61, 66, 70, 75, 94]\n",
      "Удалить значение: 37\n",
      "[2, 5, 9, 12, 21, 22, 22, 23, 24, 25, 42, 44, 46, 58, 61, 66, 70, 75, 94]\n"
     ]
    }
   ],
   "source": [
    "interpol_delete_arr = copy.copy(interpol_arr)\n",
    "\n",
    "\n",
    "def interpol_delete(array, num):\n",
    "    index = interpol_search(array, num)\n",
    "    if index > -1:\n",
    "        array.pop(index)\n",
    "    return array\n",
    "\n",
    "\n",
    "print(\"Исходный массив:\")\n",
    "print(interpol_delete_arr)\n",
    "print(\"Удалить значение:\", end=\" \")\n",
    "delete_value = int(input())\n",
    "interpol_delete_arr = interpol_delete(interpol_delete_arr, delete_value)\n",
    "print(interpol_delete_arr)"
   ]
  },
  {
   "cell_type": "code",
   "execution_count": 20,
   "id": "36c6dd1d",
   "metadata": {},
   "outputs": [
    {
     "name": "stdout",
     "output_type": "stream",
     "text": [
      "Исходный массив:\n",
      "[2, 5, 9, 12, 21, 22, 22, 23, 24, 25, 42, 44, 46, 58, 61, 66, 70, 75, 94]\n",
      "Вставить значение: 99\n",
      "[2, 5, 9, 12, 21, 22, 22, 23, 24, 25, 42, 44, 46, 58, 61, 66, 70, 75, 94, 99]\n"
     ]
    }
   ],
   "source": [
    "interpol_insert_arr = copy.copy(interpol_delete_arr)\n",
    "\n",
    "\n",
    "def interpol_append(array, num):\n",
    "    low = 0\n",
    "    high = (len(array) - 1)\n",
    "    while low <= high and array[low] <= num <= array[high]:\n",
    "        index = low + int(((float(high - low) / (array[high] - array[low])) * (num - array[low])))\n",
    "        if array[index] == num:\n",
    "            array.insert(index, num)\n",
    "            return array\n",
    "        if array[index] < num:\n",
    "            low = index + 1\n",
    "        else:\n",
    "            high = index - 1\n",
    "    if array[low] > num:\n",
    "        array.insert(low, num)\n",
    "    elif array[high] < num:\n",
    "        array.insert(high + 1, num)\n",
    "    return array\n",
    "\n",
    "print(\"Исходный массив:\")\n",
    "print(interpol_insert_arr)\n",
    "print(\"Вставить значение:\", end=\" \")\n",
    "insert_value = int(input())\n",
    "interpol_insert_arr = interpol_append(interpol_insert_arr, insert_value)\n",
    "print(interpol_insert_arr)"
   ]
  },
  {
   "cell_type": "markdown",
   "id": "maritime-conversation",
   "metadata": {},
   "source": [
    "### Задание №2\n",
    "Написать соответствующие решения для заданных методов."
   ]
  },
  {
   "cell_type": "code",
   "execution_count": null,
   "id": "97f9de37",
   "metadata": {},
   "outputs": [],
   "source": [
    "#Простое рехэширование"
   ]
  },
  {
   "cell_type": "code",
   "execution_count": null,
   "id": "b4b80e3a",
   "metadata": {},
   "outputs": [],
   "source": [
    "#Рехэширование с помощью псевдослучайных чисел\n"
   ]
  },
  {
   "cell_type": "code",
   "execution_count": null,
   "id": "1addc092",
   "metadata": {},
   "outputs": [],
   "source": [
    "#Метод цепочек"
   ]
  },
  {
   "cell_type": "markdown",
   "id": "catholic-roots",
   "metadata": {},
   "source": [
    "### Задание №3\n",
    "Расставить на стандартной 64-клеточной шахматной доске 8 ферзей так, чтобы ни один из них не находился под боем другого». Подразумевается, что ферзь бьёт все клетки, расположенные по вертикалям, горизонталям и обеим диагоналям\n",
    "Написать программу,  которая находит хотя бы один способ решения задач.\n"
   ]
  },
  {
   "cell_type": "code",
   "execution_count": null,
   "id": "09de30c9",
   "metadata": {},
   "outputs": [],
   "source": []
  }
 ],
 "metadata": {
  "kernelspec": {
   "display_name": "Python 3 (ipykernel)",
   "language": "python",
   "name": "python3"
  },
  "language_info": {
   "codemirror_mode": {
    "name": "ipython",
    "version": 3
   },
   "file_extension": ".py",
   "mimetype": "text/x-python",
   "name": "python",
   "nbconvert_exporter": "python",
   "pygments_lexer": "ipython3",
   "version": "3.10.2"
  }
 },
 "nbformat": 4,
 "nbformat_minor": 5
}
