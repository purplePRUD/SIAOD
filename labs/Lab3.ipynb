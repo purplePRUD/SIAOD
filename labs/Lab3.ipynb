{
 "cells": [
  {
   "cell_type": "markdown",
   "id": "db4b50f0",
   "metadata": {},
   "source": [
    "# Лабораторная работа №3\n",
    "## Выполнил студент группы ФИО ГРУППА"
   ]
  },
  {
   "cell_type": "markdown",
   "id": "annual-symbol",
   "metadata": {},
   "source": [
    "### Оглавление\n",
    "1. [Задание 1](#Задание-№1)\n",
    "2. [Задание 2](#Задание-№2)\n",
    "4. [Вывод](#Вывод)"
   ]
  },
  {
   "cell_type": "markdown",
   "id": "independent-spirit",
   "metadata": {},
   "source": [
    "> Дополнительные модули, использованные при выполнение лабораторной"
   ]
  },
  {
   "cell_type": "code",
   "execution_count": 4,
   "id": "4839be2b",
   "metadata": {},
   "outputs": [],
   "source": [
    "# Необходим при замере скорости выполнения кода\n",
    "from datetime import datetime as t\n",
    "# Нужен для создания словаря в алг. Бойера-Мура\n",
    "from collections import defaultdict"
   ]
  },
  {
   "cell_type": "markdown",
   "id": "inclusive-motorcycle",
   "metadata": {},
   "source": [
    "### Задание №1\n",
    "Реализовать методы поиска подстроки в строке. Добавить возможность ввода строки и подстроки с клавиатуры. Предусмотреть возможность существования пробела. Реализовать возможность выбора опции чувствительности или нечувствительности к регистру. Оценить время работы каждого алгоритма поиска и сравнить его со временем работы стандартной функции поиска, используемой в выбранном языке программирования."
   ]
  },
  {
   "cell_type": "markdown",
   "id": "interracial-communication",
   "metadata": {},
   "source": [
    "#### Алгоритм Кнута-Морриса-Пратта"
   ]
  },
  {
   "cell_type": "code",
   "execution_count": 10,
   "id": "presidential-level",
   "metadata": {},
   "outputs": [
    {
     "name": "stdout",
     "output_type": "stream",
     "text": [
      "Исходный текст: asdaasdassdaassdd\n",
      "Искомая строка: SDA\n",
      "Чувствительность регистра: 1\n",
      "Индексы вхождения: Не найдено!\n",
      "--- 0 ms ---\n",
      "Исходный текст: asdaasdassdaassdd\n",
      "Искомая строка: SDA\n",
      "Чувствительность регистра: 0\n",
      "Индексы вхождения: [1, 5, 9]\n",
      "--- 0 ms ---\n"
     ]
    }
   ],
   "source": [
    "def create_index_table(sample: object) -> object:\n",
    "    values = [0] * len(sample)\n",
    "    for i in range(1, len(sample)):\n",
    "        j = 0\n",
    "        while i + j < len(sample) and sample[j] == sample[i + j]:\n",
    "            values[i + j] = max(values[i + j], j + 1)\n",
    "            j += 1\n",
    "    return values\n",
    "\n",
    "\n",
    "def knut_moris_prat(text, sample, case):\n",
    "    index_table = create_index_table(sample)\n",
    "    found = []\n",
    "    text_pos = 0\n",
    "    sample_pos = 0\n",
    "\n",
    "    if case == 0:\n",
    "        text = text.lower()\n",
    "        sample = sample.lower()\n",
    "\n",
    "    while text_pos < len(text):\n",
    "        if sample[sample_pos] == text[text_pos]:\n",
    "            sample_pos += 1\n",
    "            text_pos += 1\n",
    "        if sample_pos == len(sample):\n",
    "            found.append(text_pos - sample_pos)\n",
    "            sample_pos = index_table[sample_pos - 1]\n",
    "        elif text_pos < len(text) and sample[sample_pos] != text[text_pos]:\n",
    "            if sample_pos != 0:\n",
    "                sample_pos = index_table[sample_pos - 1]\n",
    "            else:\n",
    "                text_pos += 1\n",
    "    return found if len(found) > 0 else \"Не найдено!\"\n",
    "\n",
    "\n",
    "text = \"asdaasdassdaassdd\"\n",
    "print(\"Исходный текст:\", text)\n",
    "print(\"Искомая строка:\", end=\" \")\n",
    "sample = input()\n",
    "print(\"Чувствительность регистра:\", end=\" \")\n",
    "case = int(input())\n",
    "start_time = t.now()\n",
    "print(\"Индексы вхождения:\", knut_moris_prat(text, sample, case))\n",
    "KMPSerch_time = t.now() - start_time\n",
    "print(\"--- {0} ms ---\".format(KMPSerch_time.microseconds))\n",
    "\n",
    "print(\"Исходный текст:\", text)\n",
    "print(\"Искомая строка:\", end=\" \")\n",
    "sample = input()\n",
    "print(\"Чувствительность регистра:\", end=\" \")\n",
    "case = int(input())\n",
    "start_time = t.now()\n",
    "print(\"Индексы вхождения:\", knut_moris_prat(text, sample, case))\n",
    "KMPSerch_time = t.now() - start_time\n",
    "print(\"--- {0} ms ---\".format(KMPSerch_time.microseconds))"
   ]
  },
  {
   "cell_type": "markdown",
   "id": "downtown-option",
   "metadata": {},
   "source": [
    "#### Упрощенный алгоритм Бойера-Мура"
   ]
  },
  {
   "cell_type": "code",
   "execution_count": null,
   "id": "respective-reggae",
   "metadata": {},
   "outputs": [],
   "source": []
  },
  {
   "cell_type": "markdown",
   "id": "hybrid-memorial",
   "metadata": {},
   "source": [
    "### Задание №2\n",
    "Написать программу, определяющую, является ли данное\n",
    "расположение «решаемым», то есть можно ли из него за конечное число\n",
    "шагов перейти к правильному. Если это возможно, то необходимо найти хотя\n",
    "бы одно решение - последовательность движений, после которой числа будут\n",
    "расположены в правильном порядке.\n",
    "#### Входные данные: массив чисел, представляющий собой расстановку в\n",
    "Порядке «слева направо, сверху вниз». Число 0 обозначает пустое поле.\n",
    "Например, массив [1, 2, 3, 4, 5, 6, 7, 8, 9, 10, 11, 12, 13, 14, 15, 0] представляет\n",
    "собой «решенную» позицию элементов.\n",
    "#### Выходные данные: если решения нет, то функция должна вернуть\n",
    "Пустой массив []. Если решение есть, то необходимо представить решение —\n",
    "для каждого шага записывается номер передвигаемого на данном шаге\n",
    "элемента. "
   ]
  },
  {
   "cell_type": "code",
   "execution_count": 5,
   "id": "eleven-generic",
   "metadata": {},
   "outputs": [],
   "source": []
  },
  {
   "cell_type": "markdown",
   "id": "arbitrary-amazon",
   "metadata": {},
   "source": [
    "### Вывод"
   ]
  },
  {
   "cell_type": "markdown",
   "id": "71bc58bf",
   "metadata": {},
   "source": []
  }
 ],
 "metadata": {
  "kernelspec": {
   "display_name": "Python 3 (ipykernel)",
   "language": "python",
   "name": "python3"
  },
  "language_info": {
   "codemirror_mode": {
    "name": "ipython",
    "version": 3
   },
   "file_extension": ".py",
   "mimetype": "text/x-python",
   "name": "python",
   "nbconvert_exporter": "python",
   "pygments_lexer": "ipython3",
   "version": "3.10.2"
  }
 },
 "nbformat": 4,
 "nbformat_minor": 5
}
