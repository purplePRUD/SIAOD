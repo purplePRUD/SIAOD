{
 "cells": [
  {
   "cell_type": "markdown",
   "metadata": {
    "id": "WPvB9TcMmKA6"
   },
   "source": [
    "# Лабораторная работа №5\n",
    "# Рекурсия. Фракталы."
   ]
  },
  {
   "cell_type": "markdown",
   "metadata": {
    "id": "96Gi_LEvmSVH"
   },
   "source": [
    "## Выполнил студент группы Куликов Павел Максимович БВТ2005\n",
    "***"
   ]
  },
  {
   "cell_type": "markdown",
   "metadata": {
    "id": "4clYOyb0mbEv"
   },
   "source": [
    "### Задание:\n",
    "Реализовать генерацию заданного типа фрактала с применением рекурсивных функций.\n",
    "\n",
    "\n",
    "Добавить возможность задания глубины фрактала. \n",
    "\n",
    "\n",
    "Оценить глубину рекурсии. \n",
    "\n",
    "\n",
    "Построить таблицу зависимости времени построения от глубины фрактала."
   ]
  },
  {
   "cell_type": "markdown",
   "metadata": {
    "id": "wDXHbUmMmhRL"
   },
   "source": [
    "### Список фракталов:\n",
    "\n",
    "Кривая Коха\n",
    "| Кривая Гильберта\n",
    "| Кривая Серпинского\n",
    "| Салфетка Серпинского\n",
    "| Ковер Серпинского\n",
    "| Дерево Пифагора "
   ]
  },
  {
   "cell_type": "markdown",
   "metadata": {
    "id": "Wggfn8l7nG72"
   },
   "source": [
    "### Выполнение:"
   ]
  },
  {
   "cell_type": "code",
   "execution_count": 1,
   "metadata": {},
   "outputs": [],
   "source": [
    "import turtle\n",
    "import time\n",
    "\n",
    "width = 1200\n",
    "height = 600\n"
   ]
  },
  {
   "cell_type": "markdown",
   "metadata": {},
   "source": [
    "#### L-система"
   ]
  },
  {
   "cell_type": "code",
   "execution_count": 2,
   "metadata": {},
   "outputs": [],
   "source": [
    "class LSystem2D:\n",
    "    def __init__(self, t, axiom, width, length, angle):\n",
    "        self.axiom = axiom      # инициатор\n",
    "        self.state = axiom      # строка с набором команд для фрактала (вначале это инициатор)\n",
    "        self.width = width      # толщина линии рисования\n",
    "        self.length = length    # длина одного линейного сегмента кривой\n",
    "        self.angle = angle      # фиксированный угол поворота\n",
    "        self.t = t              # сама черепашка\n",
    "        self.rules = {}  # словарь для хранения правил формирования кривых\n",
    "        self.t.pensize(self.width)\n",
    "\n",
    "    def add_rules(self, *rules):\n",
    "        for key, value in rules:\n",
    "            self.rules[key] = value\n",
    "\n",
    "    def generate_path(self, n_iter):\n",
    "        for key, value in self.rules.items():\n",
    "            self.state = self.state.replace(key, value.lower())\n",
    "\n",
    "        self.state = self.state.upper()\n",
    "\n",
    "        if n_iter > 0: self.generate_path(n_iter - 1)\n",
    "\n",
    "    def set_turtle(self, my_tuple):\n",
    "        self.t.up()\n",
    "        self.t.goto(my_tuple[0], my_tuple[1])\n",
    "        self.t.seth(my_tuple[2])\n",
    "        self.t.down()\n",
    "\n",
    "    def draw_turtle(self, start_pos, start_angle):\n",
    "        # ***************\n",
    "        turtle.tracer(1, 0)  # форсажный режим для черепашки\n",
    "        self.t.up()  # черепашка воспаряет над поверхностью (чтобы не было следа)\n",
    "        self.t.setpos(start_pos)  # начальная стартовая позиция\n",
    "        self.t.seth(start_angle)  # начальный угол поворота\n",
    "        self.t.down()  # черепашка опускается на \"грешную землю\"\n",
    "        turtle_stack = []\n",
    "        # ***************\n",
    "        for move in self.state:\n",
    "            if move == 'F':\n",
    "                self.t.forward(self.length)\n",
    "            elif move == 'S':\n",
    "                self.t.up()\n",
    "                self.t.forward(self.length)\n",
    "                self.t.down()\n",
    "            elif move == '+':\n",
    "                self.t.left(self.angle)\n",
    "            elif move == '-':\n",
    "                self.t.right(self.angle)\n",
    "            elif move == \"[\":\n",
    "                turtle_stack.append((self.t.xcor(), self.t.ycor(), self.t.heading(), self.t.pensize()))\n",
    "            elif move == \"]\":\n",
    "                xcor, ycor, head, w = turtle_stack.pop()\n",
    "                self.set_turtle((xcor, ycor, head))\n",
    "                self.width = w\n",
    "                self.t.pensize(self.width)"
   ]
  },
  {
   "cell_type": "markdown",
   "metadata": {},
   "source": [
    "#### Кривая Коха"
   ]
  },
  {
   "cell_type": "code",
   "execution_count": 3,
   "metadata": {
    "id": "681a95mZnOSa"
   },
   "outputs": [
    {
     "name": "stdout",
     "output_type": "stream",
     "text": [
      "Глубина 1 время ---      81 ms ---\n",
      "Глубина 2 время ---     367 ms ---\n",
      "Глубина 3 время ---    1474 ms ---\n",
      "Глубина 4 время ---    5971 ms ---\n",
      "Глубина 5 время ---   23038 ms ---\n"
     ]
    }
   ],
   "source": [
    "def koch_draw(t, ln, lvl):\n",
    "    if ln > 6 and lvl:\n",
    "        ln3 = ln // 3\n",
    "        koch_draw(t, ln3, lvl-1)\n",
    "        t.left(60)\n",
    "        koch_draw(t, ln3, lvl-1)\n",
    "        t.right(120)\n",
    "        koch_draw(t, ln3, lvl-1)\n",
    "        t.left(60)\n",
    "        koch_draw(t, ln3, lvl-1)\n",
    "    else:\n",
    "        t.fd(ln)\n",
    "        t.left(60)\n",
    "        t.fd(ln)\n",
    "        t.right(120)\n",
    "        t.fd(ln)\n",
    "        t.left(60)\n",
    "        t.fd(ln)\n",
    "        lvl -= 1\n",
    "\n",
    "\n",
    "def koch_curve(t, lvl):\n",
    "    t.reset()\n",
    "    koch_deepth = 0\n",
    "    ln = 200\n",
    "    t.speed(500)\n",
    "    start = time.time()\n",
    "    koch_draw(t, ln, lvl)\n",
    "    finish = round((time.time() - start)*1000)\n",
    "    koch_info.append(finish)\n",
    "\n",
    "\n",
    "koch_deepth =0\n",
    "koch_info = []\n",
    "screen = turtle.Screen()\n",
    "screen.setup(1200, 600, -1000, 0)\n",
    "t = turtle.Turtle()\n",
    "t.ht()\n",
    "\n",
    "for lvl in range(5):\n",
    "    koch_curve(t, lvl)\n",
    "for i in range(5):\n",
    "    print(\"Глубина\", i + 1, \"время --- {0:7d} ms ---\".format(koch_info[i]))\n",
    "turtle.done()"
   ]
  },
  {
   "attachments": {
    "image-2.png": {
     "image/png": "[encoded data removed]"
    }
   },
   "cell_type": "markdown",
   "metadata": {},
   "source": [
    "![image-2.png](attachment:image-2.png)"
   ]
  },
  {
   "cell_type": "markdown",
   "metadata": {},
   "source": [
    "#### Кривая Гильберта"
   ]
  },
  {
   "cell_type": "code",
   "execution_count": 3,
   "metadata": {},
   "outputs": [
    {
     "name": "stdout",
     "output_type": "stream",
     "text": [
      "Глубина 1 время ---      21 ms ---\n",
      "Глубина 2 время ---     110 ms ---\n",
      "Глубина 3 время ---     556 ms ---\n",
      "Глубина 4 время ---    2519 ms ---\n",
      "Глубина 5 время ---   10726 ms ---\n"
     ]
    }
   ],
   "source": [
    "screen = turtle.Screen()\n",
    "screen.setup(width, height, 0, 0)\n",
    "\n",
    "t = turtle.Turtle()\n",
    "t.ht()\n",
    "\n",
    "pen_width = 2\n",
    "f_len = 10\n",
    "angle = 90\n",
    "axiom = \"L\"\n",
    "\n",
    "gilbert_curve_info = []\n",
    "\n",
    "t = turtle.Turtle()\n",
    "for lvl in range(5):\n",
    "    t.reset()\n",
    "    t.ht()\n",
    "    l_sys = LSystem2D(t, axiom, pen_width, f_len, angle)\n",
    "    l_sys.add_rules((\"L\", \"+RF-LFL-FR+\"), ('R', '-LF+RFR+FL-'))\n",
    "    start = time.time()\n",
    "    l_sys.generate_path(lvl)\n",
    "    l_sys.draw_turtle((0, 0), -180)\n",
    "    finish = round((time.time() - start) * 1000)\n",
    "    gilbert_curve_info.append(finish)\n",
    "for i in range(5):\n",
    "    print(\"Глубина\", i + 1, \"время --- {0:7d} ms ---\".format(gilbert_curve_info[i]))\n",
    "\n",
    "turtle.done()"
   ]
  },
  {
   "attachments": {
    "image-3.png": {
     "image/png": "[encoded data removed]"
    }
   },
   "cell_type": "markdown",
   "metadata": {},
   "source": [
    "![image-3.png](attachment:image-3.png)"
   ]
  },
  {
   "cell_type": "markdown",
   "metadata": {},
   "source": [
    "#### Кривая Серпинского"
   ]
  },
  {
   "cell_type": "code",
   "execution_count": 3,
   "metadata": {},
   "outputs": [
    {
     "name": "stdout",
     "output_type": "stream",
     "text": [
      "Глубина 1 время ---      21 ms ---\n",
      "Глубина 2 время ---     127 ms ---\n",
      "Глубина 3 время ---     663 ms ---\n",
      "Глубина 4 время ---    2974 ms ---\n",
      "Глубина 5 время ---   12860 ms ---\n"
     ]
    }
   ],
   "source": [
    "screen = turtle.Screen()\n",
    "screen.setup(width, height, 0, 0)\n",
    "\n",
    "t = turtle.Turtle()\n",
    "t.ht()\n",
    "\n",
    "pen_width = 2\n",
    "f_len = 5\n",
    "angle = 90\n",
    "axiom = \"F+XF+F+XF\"\n",
    "\n",
    "serpinskiy_curve_info = []\n",
    "\n",
    "t = turtle.Turtle()\n",
    "for lvl in range(5):\n",
    "    t.reset()\n",
    "    t.ht()\n",
    "    l_sys = LSystem2D(t, axiom, pen_width, f_len, angle)\n",
    "    l_sys.add_rules((\"X\", \"XF-F+F-XF+F+XF-F+F-X\"))\n",
    "    start = time.time()\n",
    "    l_sys.generate_path(lvl)\n",
    "    l_sys.draw_turtle((0, 0), 0)\n",
    "    finish = round((time.time() - start) * 1000)\n",
    "    serpinskiy_curve_info.append(finish)\n",
    "for i in range(5):\n",
    "    print(\"Глубина\", i + 1, \"время --- {0:7d} ms ---\".format(serpinskiy_curve_info[i]))\n",
    "\n",
    "turtle.done()"
   ]
  },
  {
   "attachments": {
    "image.png": {
     "image/png": "[encoded data removed]"
    }
   },
   "cell_type": "markdown",
   "metadata": {},
   "source": [
    "![image.png](attachment:image.png)"
   ]
  },
  {
   "cell_type": "markdown",
   "metadata": {},
   "source": [
    "#### Салфетка Серпинского"
   ]
  },
  {
   "cell_type": "code",
   "execution_count": 3,
   "metadata": {},
   "outputs": [
    {
     "name": "stdout",
     "output_type": "stream",
     "text": [
      "Глубина 1 время ---      22 ms ---\n",
      "Глубина 2 время ---      57 ms ---\n",
      "Глубина 3 время ---     191 ms ---\n",
      "Глубина 4 время ---     628 ms ---\n",
      "Глубина 5 время ---    2353 ms ---\n"
     ]
    }
   ],
   "source": [
    "screen = turtle.Screen()\n",
    "screen.setup(width, height, 0, 0)\n",
    "\n",
    "t = turtle.Turtle()\n",
    "t.ht()\n",
    "\n",
    "pen_width = 2\n",
    "f_len = 5\n",
    "angle = 60\n",
    "axiom = \"FXF--FF--FF\"\n",
    "\n",
    "scarpet_info = []\n",
    "\n",
    "t = turtle.Turtle()\n",
    "for lvl in range(5):\n",
    "    t.reset()\n",
    "    t.ht()\n",
    "    l_sys = LSystem2D(t, axiom, pen_width, f_len, angle)\n",
    "    l_sys.add_rules((\"F\", \"FF\"), ('X', '--FXF++FXF++FXF--'))\n",
    "    start = time.time()\n",
    "    l_sys.generate_path(lvl)\n",
    "    l_sys.draw_turtle((0, 0), -180)\n",
    "    finish = round((time.time() - start) * 1000)\n",
    "    scarpet_info.append(finish)\n",
    "for i in range(5):\n",
    "    print(\"Глубина\", i + 1, \"время --- {0:7d} ms ---\".format(scarpet_info[i]))\n",
    "\n",
    "turtle.done()"
   ]
  },
  {
   "attachments": {
    "image.png": {
     "image/png": "[encoded data removed]"
    }
   },
   "cell_type": "markdown",
   "metadata": {},
   "source": [
    "![image.png](attachment:image.png)"
   ]
  },
  {
   "cell_type": "markdown",
   "metadata": {},
   "source": [
    "####  Ковер Серпинского"
   ]
  },
  {
   "cell_type": "code",
   "execution_count": 10,
   "metadata": {},
   "outputs": [
    {
     "name": "stdout",
     "output_type": "stream",
     "text": [
      "Глубина 1 время ---       7 ms ---\n",
      "Глубина 2 время ---      80 ms ---\n",
      "Глубина 3 время ---     544 ms ---\n",
      "Глубина 4 время ---    5757 ms ---\n",
      "Глубина 5 время ---  136236 ms ---\n"
     ]
    }
   ],
   "source": [
    "def s(n, l):\n",
    "    if n == 0:\n",
    "        turtle.color('black')\n",
    "        turtle.begin_fill()\n",
    "        for _ in range (4):\n",
    "            turtle.forward(l)\n",
    "            turtle.left(90)\n",
    "        turtle.end_fill()\n",
    "    else:\n",
    "        for _ in range(4):\n",
    "            s(n-1, l/3)\n",
    "            turtle.forward(l/3)\n",
    "\n",
    "            s(n-1, l/3)\n",
    "            turtle.forward(l/3)\n",
    "\n",
    "            turtle.forward(l/3)\n",
    "            turtle.left(90)\n",
    "        turtle.update()\n",
    "\n",
    "\n",
    "turtle.tracer(0)\n",
    "\n",
    "scarpet_info = []\n",
    "for lvl in range(1, 6):\n",
    "    start = time.time()\n",
    "    s(lvl, 500)\n",
    "    finish = round((time.time() - start) * 1000)\n",
    "    scarpet_info.append(finish)\n",
    "    turtle.clear()\n",
    "for i in range(5):\n",
    "    print(\"Глубина\", i + 1, \"время --- {0:7d} ms ---\".format(scarpet_info[i]))\n",
    "turtle.done()"
   ]
  },
  {
   "attachments": {
    "image.png": {
     "image/png": "[encoded data removed]"
    }
   },
   "cell_type": "markdown",
   "metadata": {},
   "source": [
    "![image.png](attachment:image.png)"
   ]
  },
  {
   "cell_type": "markdown",
   "metadata": {},
   "source": [
    "#### Дерево Пифагора"
   ]
  },
  {
   "cell_type": "code",
   "execution_count": 3,
   "metadata": {},
   "outputs": [
    {
     "name": "stdout",
     "output_type": "stream",
     "text": [
      "Глубина 1 время ---       6 ms ---\n",
      "Глубина 2 время ---      21 ms ---\n",
      "Глубина 3 время ---      53 ms ---\n",
      "Глубина 4 время ---     112 ms ---\n",
      "Глубина 5 время ---     276 ms ---\n"
     ]
    }
   ],
   "source": [
    "screen = turtle.Screen()\n",
    "screen.setup(width, height, 0, 0)\n",
    "\n",
    "t = turtle.Turtle()\n",
    "t.ht()\n",
    "\n",
    "pen_width = 2\n",
    "f_len = 10\n",
    "angle = 33\n",
    "axiom = \"A\"\n",
    "\n",
    "pif_tree_info = []\n",
    "\n",
    "t = turtle.Turtle()\n",
    "\n",
    "for lvl in range(5):\n",
    "    t.reset()\n",
    "    t.ht()\n",
    "    l_sys = LSystem2D(t, axiom, pen_width, f_len, angle)\n",
    "    l_sys.add_rules((\"F\", \"FF\"), (\"A\", \"F[+A][-A]\"))\n",
    "    start = time.time()\n",
    "    l_sys.generate_path(lvl)\n",
    "    l_sys.draw_turtle((0, -200), 90)\n",
    "    finish = round((time.time() - start) * 1000)\n",
    "    pif_tree_info.append(finish)\n",
    "    turtle.clear()\n",
    "for i in range(5):\n",
    "    print(\"Глубина\", i + 1, \"время --- {0:7d} ms ---\".format(pif_tree_info[i]))\n",
    "\n",
    "turtle.done()"
   ]
  },
  {
   "attachments": {
    "image.png": {
     "image/png": "[encoded data removed]"
    }
   },
   "cell_type": "markdown",
   "metadata": {},
   "source": [
    "![image.png](attachment:image.png)"
   ]
  },
  {
   "cell_type": "markdown",
   "metadata": {
    "id": "diOb-K7LnO5a"
   },
   "source": [
    "### Вывод\n"
   ]
  },
  {
   "cell_type": "code",
   "execution_count": null,
   "metadata": {},
   "outputs": [],
   "source": []
  }
 ],
 "metadata": {
  "colab": {
   "collapsed_sections": [],
   "name": "Lab5.ipynb",
   "provenance": []
  },
  "kernelspec": {
   "display_name": "Python 3 (ipykernel)",
   "language": "python",
   "name": "python3"
  },
  "language_info": {
   "codemirror_mode": {
    "name": "ipython",
    "version": 3
   },
   "file_extension": ".py",
   "mimetype": "text/x-python",
   "name": "python",
   "nbconvert_exporter": "python",
   "pygments_lexer": "ipython3",
   "version": "3.10.2"
  }
 },
 "nbformat": 4,
 "nbformat_minor": 1
}
