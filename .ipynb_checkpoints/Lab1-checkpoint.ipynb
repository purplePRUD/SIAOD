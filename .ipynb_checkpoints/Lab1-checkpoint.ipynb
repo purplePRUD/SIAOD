{
 "cells": [
  {
   "cell_type": "markdown",
   "id": "fifteen-sailing",
   "metadata": {},
   "source": [
    "# Лабораторная работа №1\n",
    "## Выполнил студент группы БВТ2005 Куликов Павел Максимович"
   ]
  },
  {
   "cell_type": "markdown",
   "id": "particular-syndicate",
   "metadata": {},
   "source": [
    "### Оглавление\n",
    "1. [Задание 1](#Задание-№1)\n",
    "2. [Задание 2](#Задание-№2)\n",
    "3. [Задание 3](#Задание-№3)\n",
    "4. [Вывод](#Вывод)"
   ]
  },
  {
   "cell_type": "markdown",
   "id": "arctic-stocks",
   "metadata": {},
   "source": [
    "### Задание №1\n",
    "<i> Вызвать функцию print() и передать туда строку Hello, World! </i>"
   ]
  },
  {
   "cell_type": "code",
   "execution_count": 1,
   "id": "caring-truck",
   "metadata": {
    "scrolled": true
   },
   "outputs": [
    {
     "name": "stdout",
     "output_type": "stream",
     "text": [
      "Hello, World!\n"
     ]
    }
   ],
   "source": [
    "print(\"Hello, World!\")"
   ]
  },
  {
   "cell_type": "markdown",
   "id": "maritime-conversation",
   "metadata": {},
   "source": [
    "### Задание №2\n",
    "Написать генератор случайных матриц(многомерных), который принимает\n",
    "опциональные параметры <b>m</b>, <b>n</b>, <b>min_limit</b>, <b>max_limit</b>, где <b>m</b> и <b>n</b> указывают размер\n",
    "матрицы, а <b>min_lim</b> и <b>max_lim</b> - минимальное и максимальное значение для\n",
    "генерируемого числа."
   ]
  },
  {
   "cell_type": "code",
   "execution_count": 2,
   "id": "built-contact",
   "metadata": {},
   "outputs": [],
   "source": [
    "import random\n",
    "import time"
   ]
  },
  {
   "cell_type": "code",
   "execution_count": 10,
   "id": "alert-charm",
   "metadata": {},
   "outputs": [
    {
     "name": "stdout",
     "output_type": "stream",
     "text": [
      "15\n",
      "15\n",
      "0\n",
      "100\n",
      "\t28 \t49 \t96 \t0 \t32 \t66 \t25 \t40 \t73 \t85 \t40 \t44 \t65 \t81 \t83 \n",
      "\t50 \t66 \t65 \t17 \t54 \t21 \t79 \t3 \t87 \t16 \t12 \t62 \t35 \t41 \t55 \n",
      "\t7 \t80 \t75 \t10 \t77 \t63 \t80 \t10 \t74 \t82 \t95 \t87 \t11 \t2 \t94 \n",
      "\t63 \t63 \t6 \t97 \t49 \t84 \t19 \t27 \t64 \t38 \t54 \t8 \t55 \t9 \t78 \n",
      "\t94 \t35 \t6 \t35 \t34 \t35 \t30 \t88 \t76 \t74 \t48 \t50 \t56 \t75 \t63 \n",
      "\t39 \t96 \t98 \t51 \t42 \t13 \t0 \t88 \t47 \t4 \t74 \t51 \t2 \t11 \t73 \n",
      "\t99 \t84 \t72 \t19 \t52 \t87 \t3 \t87 \t75 \t93 \t89 \t56 \t16 \t32 \t97 \n",
      "\t61 \t75 \t38 \t66 \t51 \t81 \t56 \t19 \t22 \t31 \t54 \t89 \t60 \t38 \t3 \n",
      "\t98 \t83 \t42 \t2 \t49 \t78 \t39 \t44 \t31 \t78 \t39 \t24 \t49 \t56 \t46 \n",
      "\t28 \t26 \t25 \t40 \t84 \t79 \t66 \t11 \t43 \t97 \t63 \t47 \t14 \t53 \t67 \n",
      "\t69 \t46 \t91 \t27 \t10 \t52 \t93 \t88 \t64 \t78 \t92 \t34 \t46 \t21 \t50 \n",
      "\t8 \t80 \t87 \t35 \t24 \t34 \t56 \t80 \t48 \t43 \t30 \t36 \t55 \t49 \t25 \n",
      "\t88 \t69 \t69 \t91 \t85 \t10 \t11 \t94 \t27 \t95 \t79 \t70 \t79 \t31 \t92 \n",
      "\t96 \t28 \t69 \t53 \t18 \t56 \t36 \t59 \t43 \t24 \t24 \t34 \t77 \t47 \t43 \n",
      "\t33 \t63 \t78 \t50 \t62 \t9 \t78 \t4 \t33 \t13 \t21 \t61 \t83 \t69 \t52 \n"
     ]
    }
   ],
   "source": [
    "user_m = int(input())\n",
    "user_n = int(input())\n",
    "user_min_limit = int(input())\n",
    "user_max_limit = int(input())\n",
    "\n",
    "def PrintMatrix (arr):\n",
    "    \n",
    "    for row in arr:\n",
    "        for element in row:\n",
    "            print(\"\\t\" + str(element), end = \" \")\n",
    "        print()\n",
    "        \n",
    "\n",
    "def randMatrix (user_m, user_n, user_min_limit, user_max_limit):\n",
    "    \n",
    "    Matrix = []\n",
    "    \n",
    "    for i in range(user_m):\n",
    "        Row = []\n",
    "        for j in range(user_n):\n",
    "            Row.append(random.randint(user_min_limit, user_max_limit))   \n",
    "        Matrix.append(Row)\n",
    "   \n",
    "    return Matrix\n",
    "\n",
    "matrix = randMatrix(user_m, user_n, user_min_limit, user_max_limit)\n",
    "            \n",
    "PrintMatrix(matrix)"
   ]
  },
  {
   "cell_type": "markdown",
   "id": "catholic-roots",
   "metadata": {},
   "source": [
    "### Задание №3\n",
    "Реализовать методы сортировки строк числовой матрицы в соответствии с\n",
    "заданием. Оценить время работы каждого алгоритма сортировки и сравнить его со\n",
    "временем стандартной функции сортировки. Испытания проводить на сгенерированных\n",
    "матрицах."
   ]
  },
  {
   "cell_type": "code",
   "execution_count": 4,
   "id": "opposed-creature",
   "metadata": {},
   "outputs": [],
   "source": [
    "import copy"
   ]
  },
  {
   "cell_type": "code",
   "execution_count": 11,
   "id": "cleared-anniversary",
   "metadata": {},
   "outputs": [
    {
     "name": "stdout",
     "output_type": "stream",
     "text": [
      "\n",
      "\t0 \t25 \t28 \t32 \t40 \t40 \t44 \t49 \t65 \t66 \t73 \t81 \t83 \t85 \t96 \n",
      "\t3 \t12 \t16 \t17 \t21 \t35 \t41 \t50 \t54 \t55 \t62 \t65 \t66 \t79 \t87 \n",
      "\t2 \t7 \t10 \t10 \t11 \t63 \t74 \t75 \t77 \t80 \t80 \t82 \t87 \t94 \t95 \n",
      "\t6 \t8 \t9 \t19 \t27 \t38 \t49 \t54 \t55 \t63 \t63 \t64 \t78 \t84 \t97 \n",
      "\t6 \t30 \t34 \t35 \t35 \t35 \t48 \t50 \t56 \t63 \t74 \t75 \t76 \t88 \t94 \n",
      "\t0 \t2 \t4 \t11 \t13 \t39 \t42 \t47 \t51 \t51 \t73 \t74 \t88 \t96 \t98 \n",
      "\t3 \t16 \t19 \t32 \t52 \t56 \t72 \t75 \t84 \t87 \t87 \t89 \t93 \t97 \t99 \n",
      "\t3 \t19 \t22 \t31 \t38 \t38 \t51 \t54 \t56 \t60 \t61 \t66 \t75 \t81 \t89 \n",
      "\t2 \t24 \t31 \t39 \t39 \t42 \t44 \t46 \t49 \t49 \t56 \t78 \t78 \t83 \t98 \n",
      "\t11 \t14 \t25 \t26 \t28 \t40 \t43 \t47 \t53 \t63 \t66 \t67 \t79 \t84 \t97 \n",
      "\t10 \t21 \t27 \t34 \t46 \t46 \t50 \t52 \t64 \t69 \t78 \t88 \t91 \t92 \t93 \n",
      "\t8 \t24 \t25 \t30 \t34 \t35 \t36 \t43 \t48 \t49 \t55 \t56 \t80 \t80 \t87 \n",
      "\t10 \t11 \t27 \t31 \t69 \t69 \t70 \t79 \t79 \t85 \t88 \t91 \t92 \t94 \t95 \n",
      "\t18 \t24 \t24 \t28 \t34 \t36 \t43 \t43 \t47 \t53 \t56 \t59 \t69 \t77 \t96 \n",
      "\t4 \t9 \t13 \t21 \t33 \t33 \t50 \t52 \t61 \t62 \t63 \t69 \t78 \t78 \t83 \n",
      "--- 32 ms ---\n"
     ]
    }
   ],
   "source": [
    "import time\n",
    "import copy\n",
    "# Сортировка выбором.\n",
    "# Берётся срез массива, в котором минимальный элемент переносят в самый левый угол,\n",
    "# после чего срез уменьшается и цикл повторяется.\n",
    "start_time = time.time()\n",
    "\n",
    "first = copy.copy(matrix)\n",
    "\n",
    "for row in range(len(first)):\n",
    "    number = len(first[row])\n",
    "\n",
    "    while number > 0:\n",
    "        maxEll = first[row][0]\n",
    "        index = 0\n",
    "        for i in range(number):\n",
    "            if maxEll < first[row][i]:\n",
    "                maxEll = first[row][i]\n",
    "                index = i\n",
    "            if i == number-1:\n",
    "                mem = first[row][number-1]\n",
    "                first[row][number-1] = maxEll\n",
    "                first[row][index] = mem\n",
    "        number -= 1\n",
    "\n",
    "print()\n",
    "PrintMatrix(first)\n",
    "\n",
    "#TODO\n",
    "print(\"--- {0} ms ---\".format(round((time.time() - start_time)*1000)))"
   ]
  },
  {
   "cell_type": "code",
   "execution_count": 12,
   "id": "roman-silly",
   "metadata": {
    "scrolled": true
   },
   "outputs": [
    {
     "name": "stdout",
     "output_type": "stream",
     "text": [
      "\n",
      "\t0 \t25 \t28 \t32 \t40 \t40 \t44 \t49 \t65 \t66 \t73 \t81 \t83 \t85 \t96 \n",
      "\t3 \t12 \t16 \t17 \t21 \t35 \t41 \t50 \t54 \t55 \t62 \t65 \t66 \t79 \t87 \n",
      "\t2 \t7 \t10 \t10 \t11 \t63 \t74 \t75 \t77 \t80 \t80 \t82 \t87 \t94 \t95 \n",
      "\t6 \t8 \t9 \t19 \t27 \t38 \t49 \t54 \t55 \t63 \t63 \t64 \t78 \t84 \t97 \n",
      "\t6 \t30 \t34 \t35 \t35 \t35 \t48 \t50 \t56 \t63 \t74 \t75 \t76 \t88 \t94 \n",
      "\t0 \t2 \t4 \t11 \t13 \t39 \t42 \t47 \t51 \t51 \t73 \t74 \t88 \t96 \t98 \n",
      "\t3 \t16 \t19 \t32 \t52 \t56 \t72 \t75 \t84 \t87 \t87 \t89 \t93 \t97 \t99 \n",
      "\t3 \t19 \t22 \t31 \t38 \t38 \t51 \t54 \t56 \t60 \t61 \t66 \t75 \t81 \t89 \n",
      "\t2 \t24 \t31 \t39 \t39 \t42 \t44 \t46 \t49 \t49 \t56 \t78 \t78 \t83 \t98 \n",
      "\t11 \t14 \t25 \t26 \t28 \t40 \t43 \t47 \t53 \t63 \t66 \t67 \t79 \t84 \t97 \n",
      "\t10 \t21 \t27 \t34 \t46 \t46 \t50 \t52 \t64 \t69 \t78 \t88 \t91 \t92 \t93 \n",
      "\t8 \t24 \t25 \t30 \t34 \t35 \t36 \t43 \t48 \t49 \t55 \t56 \t80 \t80 \t87 \n",
      "\t10 \t11 \t27 \t31 \t69 \t69 \t70 \t79 \t79 \t85 \t88 \t91 \t92 \t94 \t95 \n",
      "\t18 \t24 \t24 \t28 \t34 \t36 \t43 \t43 \t47 \t53 \t56 \t59 \t69 \t77 \t96 \n",
      "\t4 \t9 \t13 \t21 \t33 \t33 \t50 \t52 \t61 \t62 \t63 \t69 \t78 \t78 \t83 \n",
      "--- 3 ms ---\n"
     ]
    }
   ],
   "source": [
    "# Сортировка вставкой.\n",
    "start_time = time.time()\n",
    "\n",
    "second = copy.copy(matrix)\n",
    "\n",
    "for row in range(len(second)):\n",
    "    number = len(second[row])\n",
    "\n",
    "    for i in range(1, number):\n",
    "        for j in range(i, 0, -1):\n",
    "            if second[row][j] < second[row][j-1]:\n",
    "                second[row][j], second[row][j-1] = second[row][j-1], second[row][j]\n",
    "            else:\n",
    "                break\n",
    "\n",
    "print()\n",
    "PrintMatrix(second)\n",
    "\n",
    "#TODO\n",
    "print(\"--- {0} ms ---\".format(round((time.time() - start_time)*1000)))"
   ]
  },
  {
   "cell_type": "code",
   "execution_count": 13,
   "id": "vital-implementation",
   "metadata": {},
   "outputs": [
    {
     "name": "stdout",
     "output_type": "stream",
     "text": [
      "\n",
      "\t0 \t25 \t28 \t32 \t40 \t40 \t44 \t49 \t65 \t66 \t73 \t81 \t83 \t85 \t96 \n",
      "\t3 \t12 \t16 \t17 \t21 \t35 \t41 \t50 \t54 \t55 \t62 \t65 \t66 \t79 \t87 \n",
      "\t2 \t7 \t10 \t10 \t11 \t63 \t74 \t75 \t77 \t80 \t80 \t82 \t87 \t94 \t95 \n",
      "\t6 \t8 \t9 \t19 \t27 \t38 \t49 \t54 \t55 \t63 \t63 \t64 \t78 \t84 \t97 \n",
      "\t6 \t30 \t34 \t35 \t35 \t35 \t48 \t50 \t56 \t63 \t74 \t75 \t76 \t88 \t94 \n",
      "\t0 \t2 \t4 \t11 \t13 \t39 \t42 \t47 \t51 \t51 \t73 \t74 \t88 \t96 \t98 \n",
      "\t3 \t16 \t19 \t32 \t52 \t56 \t72 \t75 \t84 \t87 \t87 \t89 \t93 \t97 \t99 \n",
      "\t3 \t19 \t22 \t31 \t38 \t38 \t51 \t54 \t56 \t60 \t61 \t66 \t75 \t81 \t89 \n",
      "\t2 \t24 \t31 \t39 \t39 \t42 \t44 \t46 \t49 \t49 \t56 \t78 \t78 \t83 \t98 \n",
      "\t11 \t14 \t25 \t26 \t28 \t40 \t43 \t47 \t53 \t63 \t66 \t67 \t79 \t84 \t97 \n",
      "\t10 \t21 \t27 \t34 \t46 \t46 \t50 \t52 \t64 \t69 \t78 \t88 \t91 \t92 \t93 \n",
      "\t8 \t24 \t25 \t30 \t34 \t35 \t36 \t43 \t48 \t49 \t55 \t56 \t80 \t80 \t87 \n",
      "\t10 \t11 \t27 \t31 \t69 \t69 \t70 \t79 \t79 \t85 \t88 \t91 \t92 \t94 \t95 \n",
      "\t18 \t24 \t24 \t28 \t34 \t36 \t43 \t43 \t47 \t53 \t56 \t59 \t69 \t77 \t96 \n",
      "\t4 \t9 \t13 \t21 \t33 \t33 \t50 \t52 \t61 \t62 \t63 \t69 \t78 \t78 \t83 \n",
      "--- 2 ms ---\n"
     ]
    }
   ],
   "source": [
    "# Сортировка обменом. || Сортировка пузырьком.\n",
    "start_time = time.time()\n",
    "\n",
    "third = copy.copy(matrix)\n",
    "\n",
    "for row in range(len(third)):\n",
    "    number = len(third[row])\n",
    "\n",
    "    for i in range(number-1):\n",
    "        for j in range(number-1-i):\n",
    "            if third[row][j] > third[row][j+1]:\n",
    "                third[row][j], third[row][j+1] = third[row][j+1], third[row][j]\n",
    "\n",
    "print()\n",
    "PrintMatrix(third)\n",
    "\n",
    "#TODO\n",
    "print(\"--- {0} ms ---\".format(round((time.time() - start_time)*1000)))"
   ]
  },
  {
   "cell_type": "code",
   "execution_count": 14,
   "id": "veterinary-glory",
   "metadata": {},
   "outputs": [
    {
     "name": "stdout",
     "output_type": "stream",
     "text": [
      "\n",
      "\t0 \t25 \t28 \t32 \t40 \t40 \t44 \t49 \t65 \t66 \t73 \t81 \t83 \t85 \t96 \n",
      "\t3 \t12 \t16 \t17 \t21 \t35 \t41 \t50 \t54 \t55 \t62 \t65 \t66 \t79 \t87 \n",
      "\t2 \t7 \t10 \t10 \t11 \t63 \t74 \t75 \t77 \t80 \t80 \t82 \t87 \t94 \t95 \n",
      "\t6 \t8 \t9 \t19 \t27 \t38 \t49 \t54 \t55 \t63 \t63 \t64 \t78 \t84 \t97 \n",
      "\t6 \t30 \t34 \t35 \t35 \t35 \t48 \t50 \t56 \t63 \t74 \t75 \t76 \t88 \t94 \n",
      "\t0 \t2 \t4 \t11 \t13 \t39 \t42 \t47 \t51 \t51 \t73 \t74 \t88 \t96 \t98 \n",
      "\t3 \t16 \t19 \t32 \t52 \t56 \t72 \t75 \t84 \t87 \t87 \t89 \t93 \t97 \t99 \n",
      "\t3 \t19 \t22 \t31 \t38 \t38 \t51 \t54 \t56 \t60 \t61 \t66 \t75 \t81 \t89 \n",
      "\t2 \t24 \t31 \t39 \t39 \t42 \t44 \t46 \t49 \t49 \t56 \t78 \t78 \t83 \t98 \n",
      "\t11 \t14 \t25 \t26 \t28 \t40 \t43 \t47 \t53 \t63 \t66 \t67 \t79 \t84 \t97 \n",
      "\t10 \t21 \t27 \t34 \t46 \t46 \t50 \t52 \t64 \t69 \t78 \t88 \t91 \t92 \t93 \n",
      "\t8 \t24 \t25 \t30 \t34 \t35 \t36 \t43 \t48 \t49 \t55 \t56 \t80 \t80 \t87 \n",
      "\t10 \t11 \t27 \t31 \t69 \t69 \t70 \t79 \t79 \t85 \t88 \t91 \t92 \t94 \t95 \n",
      "\t18 \t24 \t24 \t28 \t34 \t36 \t43 \t43 \t47 \t53 \t56 \t59 \t69 \t77 \t96 \n",
      "\t4 \t9 \t13 \t21 \t33 \t33 \t50 \t52 \t61 \t62 \t63 \t69 \t78 \t78 \t83 \n",
      "--- 11 ms ---\n"
     ]
    }
   ],
   "source": [
    "# Сортировка Шелла.\n",
    "start_time = time.time()\n",
    "\n",
    "fourth = copy.copy(matrix)\n",
    "\n",
    "for row in range(len(fourth)):\n",
    "    number = len(fourth[row])\n",
    "    diapason = number // 2\n",
    "\n",
    "    while diapason > 0:\n",
    "        for value in range(diapason, number):\n",
    "            currentValue = fourth[row][value]\n",
    "            index = value\n",
    "\n",
    "            while index >= diapason and fourth[row][index - diapason] > currentValue:\n",
    "                fourth[row][index] = fourth[row][index - diapason]\n",
    "                index -= diapason\n",
    "                fourth[row][index] = currentValue\n",
    "\n",
    "        diapason //= 2\n",
    "\n",
    "print()\n",
    "PrintMatrix(fourth)\n",
    "\n",
    "#TODO\n",
    "print(\"--- {0} ms ---\".format(round((time.time() - start_time)*1000)))"
   ]
  },
  {
   "cell_type": "code",
   "execution_count": 15,
   "id": "correct-chaos",
   "metadata": {},
   "outputs": [
    {
     "name": "stdout",
     "output_type": "stream",
     "text": [
      "\n",
      "\t0 \t25 \t28 \t32 \t40 \t40 \t44 \t49 \t65 \t66 \t73 \t81 \t83 \t85 \t96 \n",
      "\t3 \t12 \t16 \t17 \t21 \t35 \t41 \t50 \t54 \t55 \t62 \t65 \t66 \t79 \t87 \n",
      "\t2 \t7 \t10 \t10 \t11 \t63 \t74 \t75 \t77 \t80 \t80 \t82 \t87 \t94 \t95 \n",
      "\t6 \t8 \t9 \t19 \t27 \t38 \t49 \t54 \t55 \t63 \t63 \t64 \t78 \t84 \t97 \n",
      "\t6 \t30 \t34 \t35 \t35 \t35 \t48 \t50 \t56 \t63 \t74 \t75 \t76 \t88 \t94 \n",
      "\t0 \t2 \t4 \t11 \t13 \t39 \t42 \t47 \t51 \t51 \t73 \t74 \t88 \t96 \t98 \n",
      "\t3 \t16 \t19 \t32 \t52 \t56 \t72 \t75 \t84 \t87 \t87 \t89 \t93 \t97 \t99 \n",
      "\t3 \t19 \t22 \t31 \t38 \t38 \t51 \t54 \t56 \t60 \t61 \t66 \t75 \t81 \t89 \n",
      "\t2 \t24 \t31 \t39 \t39 \t42 \t44 \t46 \t49 \t49 \t56 \t78 \t78 \t83 \t98 \n",
      "\t11 \t14 \t25 \t26 \t28 \t40 \t43 \t47 \t53 \t63 \t66 \t67 \t79 \t84 \t97 \n",
      "\t10 \t21 \t27 \t34 \t46 \t46 \t50 \t52 \t64 \t69 \t78 \t88 \t91 \t92 \t93 \n",
      "\t8 \t24 \t25 \t30 \t34 \t35 \t36 \t43 \t48 \t49 \t55 \t56 \t80 \t80 \t87 \n",
      "\t10 \t11 \t27 \t31 \t69 \t69 \t70 \t79 \t79 \t85 \t88 \t91 \t92 \t94 \t95 \n",
      "\t18 \t24 \t24 \t28 \t34 \t36 \t43 \t43 \t47 \t53 \t56 \t59 \t69 \t77 \t96 \n",
      "\t4 \t9 \t13 \t21 \t33 \t33 \t50 \t52 \t61 \t62 \t63 \t69 \t78 \t78 \t83 \n",
      "--- 11 ms ---\n"
     ]
    }
   ],
   "source": [
    "# Быстрая сортировка.\n",
    "\n",
    "def quickSort(arr):\n",
    "    if len(arr) <= 1:\n",
    "        return arr\n",
    "\n",
    "    startElement = arr[0]\n",
    "    lowArr = list(filter(lambda x: x < startElement, arr))\n",
    "    midArr = [i for i in arr if i == startElement]\n",
    "    highArr = list(filter(lambda x: x > startElement, arr))\n",
    "\n",
    "    return quickSort(lowArr) + midArr + quickSort(highArr)\n",
    "\n",
    "\n",
    "start_time = time.time()\n",
    "\n",
    "fifth = copy.copy(matrix)\n",
    "\n",
    "for row in range(len(fifth)):\n",
    "    fifth[row] = quickSort(fifth[row])\n",
    "\n",
    "print()\n",
    "PrintMatrix(fourth)\n",
    "\n",
    "#TODO\n",
    "print(\"--- {0} ms ---\".format(round((time.time() - start_time)*1000)))\n",
    "    "
   ]
  },
  {
   "cell_type": "code",
   "execution_count": 9,
   "id": "french-czech",
   "metadata": {},
   "outputs": [
    {
     "name": "stdout",
     "output_type": "stream",
     "text": [
      "--- 0 ms ---\n"
     ]
    }
   ],
   "source": [
    "# Турнирная сортировка.\n",
    "start_time = time.time()\n",
    "#TODO\n",
    "print(\"--- {0} ms ---\".format(round((time.time() - start_time)*1000)))"
   ]
  },
  {
   "cell_type": "markdown",
   "id": "rental-jerusalem",
   "metadata": {},
   "source": [
    "### Вывод\n"
   ]
  },
  {
   "cell_type": "code",
   "execution_count": null,
   "id": "19e7f6a9",
   "metadata": {},
   "outputs": [],
   "source": []
  }
 ],
 "metadata": {
  "kernelspec": {
   "display_name": "Python 3 (ipykernel)",
   "language": "python",
   "name": "python3"
  },
  "language_info": {
   "codemirror_mode": {
    "name": "ipython",
    "version": 3
   },
   "file_extension": ".py",
   "mimetype": "text/x-python",
   "name": "python",
   "nbconvert_exporter": "python",
   "pygments_lexer": "ipython3",
   "version": "3.10.2"
  }
 },
 "nbformat": 4,
 "nbformat_minor": 5
}
