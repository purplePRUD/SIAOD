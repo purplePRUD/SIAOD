{
 "cells": [
  {
   "cell_type": "markdown",
   "id": "fifteen-sailing",
   "metadata": {},
   "source": [
    "# Лабораторная работа №1\n",
    "## Выполнил студент группы БВТ2005 Куликов Павел Максимович"
   ]
  },
  {
   "cell_type": "markdown",
   "id": "particular-syndicate",
   "metadata": {},
   "source": [
    "### Оглавление\n",
    "1. [Задание 1](#Задание-№1)\n",
    "2. [Задание 2](#Задание-№2)\n",
    "3. [Задание 3](#Задание-№3)\n",
    "4. [Вывод](#Вывод)"
   ]
  },
  {
   "cell_type": "markdown",
   "id": "arctic-stocks",
   "metadata": {},
   "source": [
    "### Задание №1\n",
    "<i> Вызвать функцию print() и передать туда строку Hello, World! </i>"
   ]
  },
  {
   "cell_type": "code",
   "execution_count": 1,
   "id": "caring-truck",
   "metadata": {
    "scrolled": true
   },
   "outputs": [
    {
     "name": "stdout",
     "output_type": "stream",
     "text": [
      "Hello, World!\n"
     ]
    }
   ],
   "source": [
    "print(\"Hello, World!\")"
   ]
  },
  {
   "cell_type": "markdown",
   "id": "maritime-conversation",
   "metadata": {},
   "source": [
    "### Задание №2\n",
    "Написать генератор случайных матриц(многомерных), который принимает\n",
    "опциональные параметры <b>m</b>, <b>n</b>, <b>min_limit</b>, <b>max_limit</b>, где <b>m</b> и <b>n</b> указывают размер\n",
    "матрицы, а <b>min_lim</b> и <b>max_lim</b> - минимальное и максимальное значение для\n",
    "генерируемого числа."
   ]
  },
  {
   "cell_type": "code",
   "execution_count": 2,
   "id": "built-contact",
   "metadata": {},
   "outputs": [],
   "source": [
    "import random\n",
    "import time"
   ]
  },
  {
   "cell_type": "code",
   "execution_count": 3,
   "id": "alert-charm",
   "metadata": {},
   "outputs": [
    {
     "name": "stdout",
     "output_type": "stream",
     "text": [
      "5\n",
      "6\n",
      "0\n",
      "20\n",
      "\t5 \t10 \t8 \t7 \t8 \t18 \n",
      "\t7 \t16 \t3 \t5 \t1 \t9 \n",
      "\t9 \t16 \t12 \t16 \t9 \t18 \n",
      "\t0 \t14 \t12 \t5 \t15 \t17 \n",
      "\t16 \t19 \t5 \t18 \t13 \t14 \n"
     ]
    }
   ],
   "source": [
    "user_m = int(input())\n",
    "user_n = int(input())\n",
    "user_min_limit = int(input())\n",
    "user_max_limit = int(input())\n",
    "\n",
    "def PrintMatrix (arr):\n",
    "    \n",
    "    for row in arr:\n",
    "        for element in row:\n",
    "            print(\"\\t\" + str(element), end = \" \")\n",
    "        print()\n",
    "        \n",
    "\n",
    "def randMatrix (user_m, user_n, user_min_limit, user_max_limit):\n",
    "    \n",
    "    Matrix = []\n",
    "    \n",
    "    for i in range(user_m):\n",
    "        Row = []\n",
    "        for j in range(user_n):\n",
    "            Row.append(random.randint(user_min_limit, user_max_limit))   \n",
    "        Matrix.append(Row)\n",
    "   \n",
    "    return Matrix\n",
    "\n",
    "matrix = randMatrix(user_m, user_n, user_min_limit, user_max_limit)\n",
    "            \n",
    "PrintMatrix(matrix)"
   ]
  },
  {
   "cell_type": "markdown",
   "id": "catholic-roots",
   "metadata": {},
   "source": [
    "### Задание №3\n",
    "Реализовать методы сортировки строк числовой матрицы в соответствии с\n",
    "заданием. Оценить время работы каждого алгоритма сортировки и сравнить его со\n",
    "временем стандартной функции сортировки. Испытания проводить на сгенерированных\n",
    "матрицах."
   ]
  },
  {
   "cell_type": "code",
   "execution_count": 4,
   "id": "opposed-creature",
   "metadata": {},
   "outputs": [],
   "source": [
    "import copy"
   ]
  },
  {
   "cell_type": "code",
   "execution_count": 5,
   "id": "cleared-anniversary",
   "metadata": {},
   "outputs": [
    {
     "name": "stdout",
     "output_type": "stream",
     "text": [
      "\n",
      "\t5 \t7 \t8 \t8 \t10 \t18 \n",
      "\t1 \t3 \t5 \t7 \t9 \t16 \n",
      "\t9 \t9 \t12 \t16 \t16 \t18 \n",
      "\t0 \t5 \t12 \t14 \t15 \t17 \n",
      "\t5 \t13 \t14 \t16 \t18 \t19 \n",
      "--- 1 ms ---\n"
     ]
    }
   ],
   "source": [
    "import time\n",
    "import copy\n",
    "# Сортировка выбором.\n",
    "# Берётся срез массива, в котором минимальный элемент переносят в самый левый угол,\n",
    "# после чего срез уменьшается и цикл повторяется.\n",
    "start_time = time.time()\n",
    "\n",
    "first = copy.copy(matrix)\n",
    "\n",
    "for row in range(len(first)):\n",
    "    number = len(first[row])\n",
    "\n",
    "    while number > 0:\n",
    "        maxEll = first[row][0]\n",
    "        index = 0\n",
    "        for i in range(number):\n",
    "            if maxEll < first[row][i]:\n",
    "                maxEll = first[row][i]\n",
    "                index = i\n",
    "            if i == number-1:\n",
    "                mem = first[row][number-1]\n",
    "                first[row][number-1] = maxEll\n",
    "                first[row][index] = mem\n",
    "        number -= 1\n",
    "\n",
    "print()\n",
    "PrintMatrix(first)\n",
    "\n",
    "#TODO\n",
    "print(\"--- {0} ms ---\".format(round((time.time() - start_time)*1000)))"
   ]
  },
  {
   "cell_type": "code",
   "execution_count": 6,
   "id": "roman-silly",
   "metadata": {
    "scrolled": true
   },
   "outputs": [
    {
     "name": "stdout",
     "output_type": "stream",
     "text": [
      "\n",
      "\t5 \t7 \t8 \t8 \t10 \t18 \n",
      "\t1 \t3 \t5 \t7 \t9 \t16 \n",
      "\t9 \t9 \t12 \t16 \t16 \t18 \n",
      "\t0 \t5 \t12 \t14 \t15 \t17 \n",
      "\t5 \t13 \t14 \t16 \t18 \t19 \n",
      "--- 0 ms ---\n"
     ]
    }
   ],
   "source": [
    "# Сортировка вставкой.\n",
    "start_time = time.time()\n",
    "\n",
    "second = copy.copy(matrix)\n",
    "\n",
    "for row in range(len(second)):\n",
    "    number = len(second[row])\n",
    "\n",
    "    for i in range(1, number):\n",
    "        for j in range(i, 0, -1):\n",
    "            if second[row][j] < second[row][j-1]:\n",
    "                second[row][j], second[row][j-1] = second[row][j-1], second[row][j]\n",
    "            else:\n",
    "                break\n",
    "\n",
    "print()\n",
    "PrintMatrix(second)\n",
    "\n",
    "#TODO\n",
    "print(\"--- {0} ms ---\".format(round((time.time() - start_time)*1000)))"
   ]
  },
  {
   "cell_type": "code",
   "execution_count": 7,
   "id": "vital-implementation",
   "metadata": {},
   "outputs": [
    {
     "name": "stdout",
     "output_type": "stream",
     "text": [
      "\n",
      "\t5 \t7 \t8 \t8 \t10 \t18 \n",
      "\t1 \t3 \t5 \t7 \t9 \t16 \n",
      "\t9 \t9 \t12 \t16 \t16 \t18 \n",
      "\t0 \t5 \t12 \t14 \t15 \t17 \n",
      "\t5 \t13 \t14 \t16 \t18 \t19 \n",
      "--- 2 ms ---\n"
     ]
    }
   ],
   "source": [
    "# Сортировка обменом. || Сортировка пузырьком.\n",
    "start_time = time.time()\n",
    "\n",
    "third = copy.copy(matrix)\n",
    "\n",
    "for row in range(len(third)):\n",
    "    number = len(third[row])\n",
    "\n",
    "    for i in range(number-1):\n",
    "        for j in range(number-1-i):\n",
    "            if third[row][j] > third[row][j+1]:\n",
    "                third[row][j], third[row][j+1] = third[row][j+1], third[row][j]\n",
    "\n",
    "print()\n",
    "PrintMatrix(third)\n",
    "\n",
    "#TODO\n",
    "print(\"--- {0} ms ---\".format(round((time.time() - start_time)*1000)))"
   ]
  },
  {
   "cell_type": "code",
   "execution_count": 8,
   "id": "veterinary-glory",
   "metadata": {},
   "outputs": [
    {
     "name": "stdout",
     "output_type": "stream",
     "text": [
      "\n",
      "\t5 \t7 \t8 \t8 \t10 \t18 \n",
      "\t1 \t3 \t5 \t7 \t9 \t16 \n",
      "\t9 \t9 \t12 \t16 \t16 \t18 \n",
      "\t0 \t5 \t12 \t14 \t15 \t17 \n",
      "\t5 \t13 \t14 \t16 \t18 \t19 \n",
      "--- 1 ms ---\n"
     ]
    }
   ],
   "source": [
    "# Сортировка Шелла.\n",
    "start_time = time.time()\n",
    "\n",
    "fourth = copy.copy(matrix)\n",
    "\n",
    "for row in range(len(fourth)):\n",
    "    number = len(fourth[row])\n",
    "    diapason = number // 2\n",
    "\n",
    "    while diapason > 0:\n",
    "        for value in range(diapason, number):\n",
    "            currentValue = fourth[row][value]\n",
    "            index = value\n",
    "\n",
    "            while index >= diapason and fourth[row][index - diapason] > currentValue:\n",
    "                fourth[row][index] = fourth[row][index - diapason]\n",
    "                index -= diapason\n",
    "                fourth[row][index] = currentValue\n",
    "\n",
    "        diapason //= 2\n",
    "\n",
    "print()\n",
    "PrintMatrix(fourth)\n",
    "\n",
    "#TODO\n",
    "print(\"--- {0} ms ---\".format(round((time.time() - start_time)*1000)))"
   ]
  },
  {
   "cell_type": "code",
   "execution_count": 8,
   "id": "correct-chaos",
   "metadata": {},
   "outputs": [
    {
     "name": "stdout",
     "output_type": "stream",
     "text": [
      "--- 1 ms ---\n"
     ]
    }
   ],
   "source": [
    "# Быстрая сортировка.\n",
    "start_time = time.time()\n",
    "#TODO\n",
    "print(\"--- {0} ms ---\".format(round((time.time() - start_time)*1000)))\n",
    "    "
   ]
  },
  {
   "cell_type": "code",
   "execution_count": 9,
   "id": "french-czech",
   "metadata": {},
   "outputs": [
    {
     "name": "stdout",
     "output_type": "stream",
     "text": [
      "--- 0 ms ---\n"
     ]
    }
   ],
   "source": [
    "# Турнирная сортировка.\n",
    "start_time = time.time()\n",
    "#TODO\n",
    "print(\"--- {0} ms ---\".format(round((time.time() - start_time)*1000)))"
   ]
  },
  {
   "cell_type": "markdown",
   "id": "rental-jerusalem",
   "metadata": {},
   "source": [
    "### Вывод\n"
   ]
  },
  {
   "cell_type": "code",
   "execution_count": null,
   "id": "19e7f6a9",
   "metadata": {},
   "outputs": [],
   "source": []
  }
 ],
 "metadata": {
  "kernelspec": {
   "display_name": "Python 3 (ipykernel)",
   "language": "python",
   "name": "python3"
  },
  "language_info": {
   "codemirror_mode": {
    "name": "ipython",
    "version": 3
   },
   "file_extension": ".py",
   "mimetype": "text/x-python",
   "name": "python",
   "nbconvert_exporter": "python",
   "pygments_lexer": "ipython3",
   "version": "3.10.2"
  }
 },
 "nbformat": 4,
 "nbformat_minor": 5
}
