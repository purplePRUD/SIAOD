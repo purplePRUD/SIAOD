{
 "cells": [
  {
   "cell_type": "markdown",
   "id": "arctic-stocks",
   "metadata": {},
   "source": [
    "### Задание №1\n",
    "Массив A состоит из целых положительных чисел длин отрезков. Составьте из трех отрезков такой треугольник, чтобы его периметр был максимально возможным. Если невозможно составить треугольник с положительной площадью функция возвращает 0."
   ]
  },
  {
   "cell_type": "code",
   "execution_count": null,
   "id": "caring-truck",
   "metadata": {
    "scrolled": false
   },
   "outputs": [],
   "source": [
    "import math\n",
    "\n",
    "\n",
    "def triangle_area(a, b, c):\n",
    "    sp = (a + b + c) / 2\n",
    "    return math.sqrt(sp * (sp - a) * (sp - b) * (sp - c))\n",
    "\n",
    "\n",
    "def max_perimeter(arr):\n",
    "    triangle_parameters = {'perimeter': 0, \"a\": 0, 'b': 0, 'c': 0}\n",
    "    for i in range(len(arr)):\n",
    "        for j in range(len(arr)):\n",
    "            if j == i:\n",
    "                break\n",
    "            else:\n",
    "                for k in range(len(arr)):\n",
    "                    if k == i or k == j:\n",
    "                        break\n",
    "                    else:\n",
    "                        a = arr[i]\n",
    "                        b = arr[j]\n",
    "                        c = arr[k]\n",
    "                        if a < (b + c) and b < (a + c) and c < (b + a):\n",
    "                            if triangle_area(a, b, c) > 0:\n",
    "                                if triangle_parameters['perimeter'] < (a + b + c):\n",
    "                                    triangle_parameters['perimeter'] = a + b + c\n",
    "                                    triangle_parameters['a'] = a\n",
    "                                    triangle_parameters['b'] = b\n",
    "                                    triangle_parameters['c'] = c\n",
    "    if triangle_parameters['perimeter'] != 0:\n",
    "        return triangle_parameters\n",
    "    else:\n",
    "        return 0\n",
    "\n",
    "\n",
    "section_array = list(map(int, input().split()))\n",
    "\n",
    "max_triangle = max_perimeter(section_array)\n",
    "\n",
    "if max_triangle != 0:\n",
    "    print(\"Исходный массив отрезков:\")\n",
    "    print(\" \".join(map(str, section_array)))\n",
    "    print(\"Максимальный периметр треугольника:\", max_triangle['perimeter'])\n",
    "    print(\"Стороны треугольника: a =\", max_triangle['a'], \"b =\", max_triangle['b'], \"c =\", max_triangle['c'])\n",
    "else:\n",
    "    print(\"Невозможно составить треугольник с положительной площадью!\")\n"
   ]
  },
  {
   "cell_type": "markdown",
   "id": "maritime-conversation",
   "metadata": {},
   "source": [
    "### Задание №2\n",
    "Дан массив неотрицательных целых чисел nums. Расположите их в таком порядке, чтобы вместе они образовали максимально возможное число. Замечание: Результат может быть очень большим числом, поэтому представьте его как string, а не integer."
   ]
  },
  {
   "cell_type": "code",
   "execution_count": null,
   "id": "alert-charm",
   "metadata": {
    "scrolled": false
   },
   "outputs": [],
   "source": []
  },
  {
   "cell_type": "markdown",
   "id": "catholic-roots",
   "metadata": {},
   "source": [
    "### Задание №3\n",
    "Дана матрица mat размером m * n, значения целочисленные. Напишите функцию, сортирующую каждую диагональ матрицы по возрастанию и возвращающую получившуюся матрицу."
   ]
  },
  {
   "cell_type": "code",
   "execution_count": null,
   "id": "cleared-anniversary",
   "metadata": {
    "scrolled": false
   },
   "outputs": [],
   "source": []
  }
 ],
 "metadata": {
  "kernelspec": {
   "display_name": "Python 3 (ipykernel)",
   "language": "python",
   "name": "python3"
  },
  "language_info": {
   "codemirror_mode": {
    "name": "ipython",
    "version": 3
   },
   "file_extension": ".py",
   "mimetype": "text/x-python",
   "name": "python",
   "nbconvert_exporter": "python",
   "pygments_lexer": "ipython3",
   "version": "3.10.2"
  }
 },
 "nbformat": 4,
 "nbformat_minor": 5
}
