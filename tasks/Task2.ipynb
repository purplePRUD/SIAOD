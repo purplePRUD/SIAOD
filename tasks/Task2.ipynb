{
 "cells": [
  {
   "cell_type": "markdown",
   "id": "arctic-stocks",
   "metadata": {},
   "source": [
    "### Задание №1\n",
    "Массив A состоит из целых положительных чисел длин отрезков. Составьте из трех отрезков такой треугольник, чтобы его периметр был максимально возможным. Если невозможно составить треугольник с положительной площадью функция возвращает 0."
   ]
  },
  {
   "cell_type": "code",
   "execution_count": 4,
   "id": "caring-truck",
   "metadata": {
    "scrolled": false
   },
   "outputs": [
    {
     "name": "stdout",
     "output_type": "stream",
     "text": [
      "Исходный массив отрезков:\n",
      "7 2 9 5 8 6 16 12 12 5 7 12 7 10 5 7 14 10 7 29 12 11 11 19\n",
      "Максимальный периметр треугольника: 64\n",
      "Стороны треугольника: a = 19 b = 29 c = 16\n"
     ]
    }
   ],
   "source": [
    "import math\n",
    "\n",
    "\n",
    "def triangle_area(a, b, c):\n",
    "    sp = (a + b + c) / 2\n",
    "    return math.sqrt(sp * (sp - a) * (sp - b) * (sp - c))\n",
    "\n",
    "\n",
    "def max_perimeter(arr):\n",
    "    triangle_parameters = {'perimeter': 0, \"a\": 0, 'b': 0, 'c': 0}\n",
    "    for i in range(len(arr)):\n",
    "        for j in range(len(arr)):\n",
    "            if j == i:\n",
    "                break\n",
    "            else:\n",
    "                for k in range(len(arr)):\n",
    "                    if k == i or k == j:\n",
    "                        break\n",
    "                    else:\n",
    "                        a = arr[i]\n",
    "                        b = arr[j]\n",
    "                        c = arr[k]\n",
    "                        if a < (b + c) and b < (a + c) and c < (b + a):\n",
    "                            if triangle_area(a, b, c) > 0:\n",
    "                                if triangle_parameters['perimeter'] < (a + b + c):\n",
    "                                    triangle_parameters['perimeter'] = a + b + c\n",
    "                                    triangle_parameters['a'] = a\n",
    "                                    triangle_parameters['b'] = b\n",
    "                                    triangle_parameters['c'] = c\n",
    "    if triangle_parameters['perimeter'] != 0:\n",
    "        return triangle_parameters\n",
    "    else:\n",
    "        return 0\n",
    "\n",
    "\n",
    "print(\"Исходный массив отрезков:\")\n",
    "section_array = list(map(int, input().split()))\n",
    "\n",
    "max_triangle = max_perimeter(section_array)\n",
    "\n",
    "if max_triangle != 0:\n",
    "    print(\"Максимальный периметр треугольника:\", max_triangle['perimeter'])\n",
    "    print(\"Стороны треугольника: a =\", max_triangle['a'], \"b =\", max_triangle['b'], \"c =\", max_triangle['c'])\n",
    "else:\n",
    "    print(\"Невозможно составить треугольник с положительной площадью!\")\n"
   ]
  },
  {
   "cell_type": "markdown",
   "id": "maritime-conversation",
   "metadata": {},
   "source": [
    "### Задание №2\n",
    "Дан массив неотрицательных целых чисел nums. Расположите их в таком порядке, чтобы вместе они образовали максимально возможное число. Замечание: Результат может быть очень большим числом, поэтому представьте его как string, а не integer."
   ]
  },
  {
   "cell_type": "code",
   "execution_count": 6,
   "id": "alert-charm",
   "metadata": {
    "scrolled": false
   },
   "outputs": [
    {
     "name": "stdout",
     "output_type": "stream",
     "text": [
      "Исходный массив чисел:\n",
      "1 12 22 21 9 99 999 93 933 20 122\n",
      "Отсортированный  массив чисел:\n",
      "[9, 99, 999, 93, 933, 22, 21, 20, 122, 12, 1]\n",
      "Самое большое число:\n",
      "99999993933222120122121\n"
     ]
    }
   ],
   "source": [
    "print(\"Исходный массив чисел:\")\n",
    "nums = list(map(int, input().split()))\n",
    "\n",
    "for i in range(1, len(nums)):\n",
    "    for j in range(i, 0, -1):\n",
    "        for k in range(max(len(str(nums[j])), len(str(nums[j - 1])))):\n",
    "            max_index1 = len(str(nums[j])) - 1\n",
    "            max_index2 = len(str(nums[j - 1])) - 1\n",
    "            diff1 = 0\n",
    "            diff2 = 0\n",
    "            if k > max_index1:\n",
    "                diff1 = k - max_index1\n",
    "            if k > max_index2:\n",
    "                diff2 = k - max_index2\n",
    "            if int(str(nums[j])[k - diff1]) > int(str(nums[j - 1])[k - diff2]):\n",
    "                nums[j], nums[j - 1] = nums[j - 1], nums[j]\n",
    "                break\n",
    "            elif int(str(nums[j])[k - diff1]) == int(str(nums[j - 1])[k - diff2]):\n",
    "                if nums[j] % 10 > int(str(nums[j - 1])[0]) and k == max(len(str(nums[j])), len(str(nums[j - 1]))) - 1:\n",
    "                    nums[j], nums[j - 1] = nums[j - 1], nums[j]\n",
    "                    break\n",
    "                continue\n",
    "            else:\n",
    "                break\n",
    "\n",
    "print(\"Отсортированный  массив чисел:\")\n",
    "print(nums)\n",
    "print(\"Самое большое число:\")\n",
    "print(\"\".join(map(str, nums)))\n"
   ]
  },
  {
   "cell_type": "markdown",
   "id": "catholic-roots",
   "metadata": {},
   "source": [
    "### Задание №3\n",
    "Дана матрица mat размером m * n, значения целочисленные. Напишите функцию, сортирующую каждую диагональ матрицы по возрастанию и возвращающую получившуюся матрицу."
   ]
  },
  {
   "cell_type": "code",
   "execution_count": 13,
   "id": "cleared-anniversary",
   "metadata": {
    "scrolled": false
   },
   "outputs": [
    {
     "name": "stdout",
     "output_type": "stream",
     "text": [
      "12\n",
      "9\n",
      "0\n",
      "20\n",
      "Исходная матрица:\n",
      "\t13 \t0 \t1 \t2 \t8 \t2 \t0 \t1 \t1 \n",
      "\t17 \t14 \t5 \t3 \t3 \t13 \t0 \t17 \t3 \n",
      "\t9 \t15 \t10 \t6 \t17 \t14 \t6 \t10 \t11 \n",
      "\t5 \t7 \t11 \t7 \t11 \t1 \t16 \t1 \t15 \n",
      "\t8 \t9 \t20 \t8 \t7 \t17 \t20 \t17 \t5 \n",
      "\t11 \t18 \t0 \t0 \t7 \t8 \t19 \t5 \t7 \n",
      "\t12 \t1 \t0 \t7 \t7 \t9 \t16 \t3 \t8 \n",
      "\t3 \t12 \t8 \t9 \t1 \t20 \t19 \t5 \t10 \n",
      "\t10 \t13 \t10 \t15 \t19 \t11 \t0 \t19 \t9 \n",
      "\t5 \t15 \t5 \t17 \t3 \t5 \t15 \t6 \t11 \n",
      "\t0 \t17 \t10 \t8 \t2 \t11 \t15 \t20 \t9 \n",
      "\t4 \t14 \t1 \t12 \t13 \t8 \t9 \t2 \t3 \n",
      "Сортированая по диагоналям матрица:\n",
      "\t5 \t0 \t1 \t2 \t1 \t0 \t0 \t1 \t1 \n",
      "\t7 \t7 \t3 \t1 \t3 \t5 \t2 \t11 \t3 \n",
      "\t0 \t8 \t7 \t5 \t3 \t7 \t6 \t10 \t17 \n",
      "\t0 \t0 \t9 \t8 \t6 \t5 \t14 \t8 \t15 \n",
      "\t0 \t1 \t6 \t11 \t9 \t10 \t8 \t16 \t13 \n",
      "\t1 \t2 \t3 \t7 \t11 \t10 \t11 \t17 \t17 \n",
      "\t2 \t3 \t5 \t5 \t7 \t15 \t13 \t17 \t20 \n",
      "\t3 \t8 \t8 \t8 \t7 \t9 \t17 \t14 \t19 \n",
      "\t10 \t5 \t10 \t9 \t9 \t9 \t9 \t19 \t16 \n",
      "\t1 \t10 \t8 \t12 \t11 \t15 \t11 \t20 \t19 \n",
      "\t0 \t5 \t12 \t13 \t12 \t11 \t18 \t15 \t20 \n",
      "\t4 \t14 \t17 \t15 \t13 \t17 \t15 \t19 \t20 \n"
     ]
    }
   ],
   "source": [
    "import copy\n",
    "import random\n",
    "\n",
    "# генератор матрицы из первой лабы\n",
    "\n",
    "user_m = int(input())\n",
    "user_n = int(input())\n",
    "user_min_limit = int(input())\n",
    "user_max_limit = int(input())\n",
    "\n",
    "\n",
    "def print_matrix(arr):\n",
    "    for row in arr:\n",
    "        for element in row:\n",
    "            print(\"\\t\" + str(element), end=\" \")\n",
    "        print()\n",
    "\n",
    "\n",
    "def rand_matrix(user_m, user_n, user_min_limit, user_max_limit):\n",
    "    matrix = []\n",
    "\n",
    "    for i in range(user_m):\n",
    "        Row = []\n",
    "        for j in range(user_n):\n",
    "            Row.append(random.randint(user_min_limit, user_max_limit))\n",
    "        matrix.append(Row)\n",
    "\n",
    "    return matrix\n",
    "\n",
    "# функция сортирующая матрицы по диагонали\n",
    "\n",
    "def diagonal_sort(matrix):\n",
    "    user_m = len(matrix)\n",
    "    user_n = len(matrix[0])\n",
    "    arr = []\n",
    "    sorted_matrix = copy.copy(matrix)\n",
    "\n",
    "    for k in range(user_m):   # тут прохожу по всем диагоналям ниже главной и по самой главной диагонали\n",
    "        arr.clear()\n",
    "        for i in range(k, user_m):\n",
    "            for j in range(i - k, user_n):\n",
    "                arr.append(matrix[i][j])  # заполняю массив элементами матрицы расположенными по диагонали\n",
    "                break\n",
    "        arr.sort()  # сортирую полученный массив диагонали\n",
    "        for i in range(k, user_m):\n",
    "            for j in range(i - k, user_n):\n",
    "                sorted_matrix[i][j] = arr[j]  # заполняю сортированную матрицу по тойже диагонали сортированным массивом\n",
    "                break\n",
    "    for k in range(1, user_n):  # тут прохожу по всем диагоналям правее главной\n",
    "        arr.clear()\n",
    "        for i in range(k, user_n):\n",
    "            for j in range(i - k, user_m):\n",
    "                arr.append(matrix[j][i])  # заполняю массив элементами матрицы расположенными по диагонали\n",
    "                break\n",
    "        arr.sort()  # сортирую полученный массив диагонали\n",
    "        for i in range(k, user_n):\n",
    "            for j in range(i - k, user_m):\n",
    "                sorted_matrix[j][i] = arr[j]   # заполняю сортированную матрицу по тойже диагонали сортированным массивом\n",
    "                break\n",
    "    return sorted_matrix\n",
    "\n",
    "# main код\n",
    "    \n",
    "matrix = rand_matrix(user_m, user_n, user_min_limit, user_max_limit)\n",
    "\n",
    "print(\"Исходная матрица:\")\n",
    "print_matrix(matrix)\n",
    "print(\"Сортированая по диагоналям матрица:\")\n",
    "print_matrix(diagonal_sort(matrix))\n"
   ]
  }
 ],
 "metadata": {
  "kernelspec": {
   "display_name": "Python 3 (ipykernel)",
   "language": "python",
   "name": "python3"
  },
  "language_info": {
   "codemirror_mode": {
    "name": "ipython",
    "version": 3
   },
   "file_extension": ".py",
   "mimetype": "text/x-python",
   "name": "python",
   "nbconvert_exporter": "python",
   "pygments_lexer": "ipython3",
   "version": "3.10.2"
  }
 },
 "nbformat": 4,
 "nbformat_minor": 5
}
